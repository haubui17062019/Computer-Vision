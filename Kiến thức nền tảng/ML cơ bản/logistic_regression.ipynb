{
  "nbformat": 4,
  "nbformat_minor": 0,
  "metadata": {
    "colab": {
      "provenance": []
    },
    "kernelspec": {
      "name": "python3",
      "display_name": "Python 3"
    },
    "language_info": {
      "name": "python"
    }
  },
  "cells": [
    {
      "cell_type": "markdown",
      "source": [
        "Bài toán: đầu vào là một bảng gồm 3 cột, cột 1 là lương, cột 2 là thời gian làm việc, cột 3 là cho vay hay không (0, 1)"
      ],
      "metadata": {
        "id": "JRcQRP-FsIwn"
      }
    },
    {
      "cell_type": "code",
      "execution_count": null,
      "metadata": {
        "id": "RKj1OWomsC1m"
      },
      "outputs": [],
      "source": [
        "!git clone https://github.com/nttuan8/DL_Tutorial.git"
      ]
    },
    {
      "cell_type": "code",
      "source": [
        "import numpy as np\n",
        "import pandas as pd\n",
        "import matplotlib.pyplot as plt"
      ],
      "metadata": {
        "id": "_EeOMonTuiI8"
      },
      "execution_count": null,
      "outputs": []
    },
    {
      "cell_type": "code",
      "source": [
        "#sigmoid\n",
        "def sigmoid(x):\n",
        "  return 1 / (1+np.exp(-x))"
      ],
      "metadata": {
        "id": "nXTUnR8luoyj"
      },
      "execution_count": null,
      "outputs": []
    },
    {
      "cell_type": "code",
      "source": [
        "# load data tu file\n",
        "data = pd.read_csv('/content/DL_Tutorial/L2/dataset.csv').values"
      ],
      "metadata": {
        "id": "H_DA60-lu15a"
      },
      "execution_count": null,
      "outputs": []
    },
    {
      "cell_type": "code",
      "source": [
        "print(data)"
      ],
      "metadata": {
        "colab": {
          "base_uri": "https://localhost:8080/"
        },
        "id": "wkSDdimdZJic",
        "outputId": "9ed717e9-fba7-4533-a91f-936f5e348e9f"
      },
      "execution_count": null,
      "outputs": [
        {
          "output_type": "stream",
          "name": "stdout",
          "text": [
            "[[10.    1.    1.  ]\n",
            " [ 5.    2.    1.  ]\n",
            " [ 6.    1.8   1.  ]\n",
            " [ 7.    1.    1.  ]\n",
            " [ 8.    2.    1.  ]\n",
            " [ 9.    0.5   1.  ]\n",
            " [ 4.    3.    1.  ]\n",
            " [ 5.    2.5   1.  ]\n",
            " [ 8.    1.    1.  ]\n",
            " [ 4.    2.5   1.  ]\n",
            " [ 8.    0.1   0.  ]\n",
            " [ 7.    0.15  0.  ]\n",
            " [ 4.    1.    0.  ]\n",
            " [ 5.    0.8   0.  ]\n",
            " [ 7.    0.3   0.  ]\n",
            " [ 4.    1.    0.  ]\n",
            " [ 5.    0.5   0.  ]\n",
            " [ 6.    0.3   0.  ]\n",
            " [ 7.    0.2   0.  ]\n",
            " [ 8.    0.15  0.  ]]\n"
          ]
        }
      ]
    },
    {
      "cell_type": "code",
      "source": [
        "l, d = data.shape"
      ],
      "metadata": {
        "id": "jENwTxj7ZjD7"
      },
      "execution_count": null,
      "outputs": []
    },
    {
      "cell_type": "code",
      "source": [
        "print(l, d)"
      ],
      "metadata": {
        "colab": {
          "base_uri": "https://localhost:8080/"
        },
        "id": "d6M6e_UFZmWb",
        "outputId": "b3ed9574-654f-415a-8b31-e164972caf59"
      },
      "execution_count": null,
      "outputs": [
        {
          "output_type": "stream",
          "name": "stdout",
          "text": [
            "20 3\n"
          ]
        }
      ]
    },
    {
      "cell_type": "code",
      "source": [
        "X1 = data[:, 0:2]\n",
        "y = data[:, 2].reshape(-1, 1)\n",
        "\n",
        "print(X1)\n",
        "print(y)"
      ],
      "metadata": {
        "colab": {
          "base_uri": "https://localhost:8080/"
        },
        "id": "gkxhdvuuZQNj",
        "outputId": "f03b2ed2-4aaa-47b2-d7f4-856582230c5a"
      },
      "execution_count": null,
      "outputs": [
        {
          "output_type": "stream",
          "name": "stdout",
          "text": [
            "[[10.    1.  ]\n",
            " [ 5.    2.  ]\n",
            " [ 6.    1.8 ]\n",
            " [ 7.    1.  ]\n",
            " [ 8.    2.  ]\n",
            " [ 9.    0.5 ]\n",
            " [ 4.    3.  ]\n",
            " [ 5.    2.5 ]\n",
            " [ 8.    1.  ]\n",
            " [ 4.    2.5 ]\n",
            " [ 8.    0.1 ]\n",
            " [ 7.    0.15]\n",
            " [ 4.    1.  ]\n",
            " [ 5.    0.8 ]\n",
            " [ 7.    0.3 ]\n",
            " [ 4.    1.  ]\n",
            " [ 5.    0.5 ]\n",
            " [ 6.    0.3 ]\n",
            " [ 7.    0.2 ]\n",
            " [ 8.    0.15]]\n",
            "[[1.]\n",
            " [1.]\n",
            " [1.]\n",
            " [1.]\n",
            " [1.]\n",
            " [1.]\n",
            " [1.]\n",
            " [1.]\n",
            " [1.]\n",
            " [1.]\n",
            " [0.]\n",
            " [0.]\n",
            " [0.]\n",
            " [0.]\n",
            " [0.]\n",
            " [0.]\n",
            " [0.]\n",
            " [0.]\n",
            " [0.]\n",
            " [0.]]\n"
          ]
        }
      ]
    },
    {
      "cell_type": "code",
      "source": [
        "x1 = np.ones((l, 1))\n",
        "x = np.hstack((x1, X1))\n",
        "print(x)"
      ],
      "metadata": {
        "colab": {
          "base_uri": "https://localhost:8080/"
        },
        "id": "4EARg6YFZ55k",
        "outputId": "38e0929e-0f91-4940-fc07-5821705d6ce1"
      },
      "execution_count": null,
      "outputs": [
        {
          "output_type": "stream",
          "name": "stdout",
          "text": [
            "[[ 1.   10.    1.  ]\n",
            " [ 1.    5.    2.  ]\n",
            " [ 1.    6.    1.8 ]\n",
            " [ 1.    7.    1.  ]\n",
            " [ 1.    8.    2.  ]\n",
            " [ 1.    9.    0.5 ]\n",
            " [ 1.    4.    3.  ]\n",
            " [ 1.    5.    2.5 ]\n",
            " [ 1.    8.    1.  ]\n",
            " [ 1.    4.    2.5 ]\n",
            " [ 1.    8.    0.1 ]\n",
            " [ 1.    7.    0.15]\n",
            " [ 1.    4.    1.  ]\n",
            " [ 1.    5.    0.8 ]\n",
            " [ 1.    7.    0.3 ]\n",
            " [ 1.    4.    1.  ]\n",
            " [ 1.    5.    0.5 ]\n",
            " [ 1.    6.    0.3 ]\n",
            " [ 1.    7.    0.2 ]\n",
            " [ 1.    8.    0.15]]\n"
          ]
        }
      ]
    },
    {
      "cell_type": "code",
      "source": [
        "w = np.array([0, 0.1, 0.1]).reshape(-1, 1)\n",
        "print(w)"
      ],
      "metadata": {
        "colab": {
          "base_uri": "https://localhost:8080/"
        },
        "id": "1etG66oRaaIa",
        "outputId": "25d3b3c8-6ea2-494b-94d1-cea4fab06600"
      },
      "execution_count": null,
      "outputs": [
        {
          "output_type": "stream",
          "name": "stdout",
          "text": [
            "[[0. ]\n",
            " [0.1]\n",
            " [0.1]]\n"
          ]
        }
      ]
    },
    {
      "cell_type": "code",
      "source": [
        "a = []\n",
        "w1 = []\n",
        "learning_rate = 0.01"
      ],
      "metadata": {
        "id": "Vyo8R_jFbZIJ"
      },
      "execution_count": null,
      "outputs": []
    },
    {
      "cell_type": "code",
      "source": [
        "for i in range(1000):\n",
        "  y_predict = sigmoid(np.dot(x, w))\n",
        "  x_predict = - np.sum(np.multiply(y, np.log(y_predict)) + np.multiply(1 - y, np.log(1 - y_predict)))\n",
        "  w = w - learning_rate*np.dot(x.T, y_predict - y)\n",
        "  w1.append(w)\n",
        "\n",
        "  a.append(x_predict)\n"
      ],
      "metadata": {
        "id": "Yktd92yBa0Qi"
      },
      "execution_count": null,
      "outputs": []
    },
    {
      "cell_type": "code",
      "source": [
        "print(w1[0:10])\n"
      ],
      "metadata": {
        "colab": {
          "base_uri": "https://localhost:8080/"
        },
        "id": "Fq-dlbpJcU5x",
        "outputId": "cbfa40c5-df88-4d56-fac5-273ea80c1bfd"
      },
      "execution_count": null,
      "outputs": [
        {
          "output_type": "stream",
          "name": "stdout",
          "text": [
            "[array([[-7.26538501],\n",
            "       [ 0.6307005 ],\n",
            "       [ 3.64648171]]), array([[-7.26965528],\n",
            "       [ 0.63117445],\n",
            "       [ 3.64787608]]), array([[-7.27392242],\n",
            "       [ 0.63164803],\n",
            "       [ 3.64926967]]), array([[-7.27818642],\n",
            "       [ 0.63212126],\n",
            "       [ 3.65066248]]), array([[-7.2824473 ],\n",
            "       [ 0.63259412],\n",
            "       [ 3.6520545 ]]), array([[-7.28670505],\n",
            "       [ 0.63306662],\n",
            "       [ 3.65344575]]), array([[-7.29095968],\n",
            "       [ 0.63353876],\n",
            "       [ 3.65483621]]), array([[-7.2952112 ],\n",
            "       [ 0.63401055],\n",
            "       [ 3.65622589]]), array([[-7.29945961],\n",
            "       [ 0.63448197],\n",
            "       [ 3.65761479]]), array([[-7.30370491],\n",
            "       [ 0.63495303],\n",
            "       [ 3.65900291]])]\n"
          ]
        }
      ]
    },
    {
      "cell_type": "code",
      "source": [
        "print(w)"
      ],
      "metadata": {
        "colab": {
          "base_uri": "https://localhost:8080/"
        },
        "id": "uSHZIHb0ctLQ",
        "outputId": "9d42d4d6-e739-4068-caf0-377762c2bee2"
      },
      "execution_count": null,
      "outputs": [
        {
          "output_type": "stream",
          "name": "stdout",
          "text": [
            "[[-7.2611116 ]\n",
            " [ 0.63022619]\n",
            " [ 3.64508655]]\n"
          ]
        }
      ]
    },
    {
      "cell_type": "code",
      "source": [
        "t = 0.5\n",
        "plt.scatter(X1[:10, 0], X1[:10, 1], c='red', edgecolors='none', s=30, label='cho vay')\n",
        "plt.scatter(X1[10:, 0], X1[10:, 1], c='blue', edgecolors='none', s=30, label='khong cho')\n",
        "plt.legend(loc=1)\n",
        "plt.xlabel('mức lương (triệu)')\n",
        "plt.ylabel('kinh nghiệm (năm)')\n",
        "# (4, 10),(-(w[0]+4*w[1]+ np.log(1/t-1))/w[2], -(w[0] + 10*w[1]+ np.log(1/t-1))/w[2]), 'g'\n",
        "plt.plot((4, 10), (-(w[0]+4*w[1]+np.log(1/t- 1))/w[2], -(w[0] + 10*w[1] + np.log(1/t - 1))/w[2]), 'g')\n",
        "plt.scatter(4, 1, c='orange')\n",
        "\n",
        "plt.show()"
      ],
      "metadata": {
        "colab": {
          "base_uri": "https://localhost:8080/",
          "height": 280
        },
        "id": "cXys1e97cv9Q",
        "outputId": "31b8ac11-744b-4f21-9752-a637df18f932"
      },
      "execution_count": null,
      "outputs": [
        {
          "output_type": "display_data",
          "data": {
            "text/plain": [
              "<Figure size 432x288 with 1 Axes>"
            ],
            "image/png": "[encoded data removed]"
          },
          "metadata": {
            "needs_background": "light"
          }
        }
      ]
    },
    {
      "cell_type": "code",
      "source": [
        "x2 = w[0] + 4*w[1] + 1*w[2]\n",
        "print(sigmoid(x2))"
      ],
      "metadata": {
        "colab": {
          "base_uri": "https://localhost:8080/"
        },
        "id": "X9uhtGuWejUl",
        "outputId": "d538a299-6c36-42ff-e6ef-76cd4f8d966c"
      },
      "execution_count": null,
      "outputs": [
        {
          "output_type": "stream",
          "name": "stdout",
          "text": [
            "[0.25065532]\n"
          ]
        }
      ]
    },
    {
      "cell_type": "code",
      "source": [],
      "metadata": {
        "id": "LXeJwwuag40j"
      },
      "execution_count": null,
      "outputs": []
    }
  ]
}
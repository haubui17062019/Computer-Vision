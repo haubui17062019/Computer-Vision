{
  "nbformat": 4,
  "nbformat_minor": 0,
  "metadata": {
    "colab": {
      "provenance": []
    },
    "kernelspec": {
      "name": "python3",
      "display_name": "Python 3"
    },
    "language_info": {
      "name": "python"
    },
    "gpuClass": "standard",
    "accelerator": "GPU"
  },
  "cells": [
    {
      "cell_type": "markdown",
      "source": [
        "### Giới thiệu\n",
        "- Sử dụng gia tốc trọng trường để nhận diện hành động của con người\n",
        "- Sẽ có một điểm để phát hiện"
      ],
      "metadata": {
        "id": "O7w4O1FE7t33"
      }
    },
    {
      "cell_type": "code",
      "execution_count": null,
      "metadata": {
        "id": "8INgBfo-UoCB"
      },
      "outputs": [],
      "source": [
        "!pip install -q kaggle\n",
        "\n",
        "from google.colab import files\n",
        "files.upload()\n",
        "# Chọn file kaggle.json tải về ở bước 2 để tải lên\n",
        "\n",
        "!mkdir '/root/.kaggle'\n",
        "!cp kaggle.json '/root/.kaggle'\n",
        "!chmod 600 /root/.kaggle/kaggle.json\n",
        "\n",
        "!kaggle datasets list"
      ]
    },
    {
      "cell_type": "code",
      "source": [
        "!kaggle datasets download -d die9origephit/human-activity-recognition"
      ],
      "metadata": {
        "colab": {
          "base_uri": "https://localhost:8080/"
        },
        "id": "mugKPL1RVAa1",
        "outputId": "8ec22444-09d1-4a12-a120-bfacd2b71238"
      },
      "execution_count": null,
      "outputs": [
        {
          "output_type": "stream",
          "name": "stdout",
          "text": [
            "Downloading human-activity-recognition.zip to /content\n",
            " 96% 10.0M/10.4M [00:01<00:00, 11.9MB/s]\n",
            "100% 10.4M/10.4M [00:01<00:00, 7.08MB/s]\n"
          ]
        }
      ]
    },
    {
      "cell_type": "code",
      "source": [
        "!unzip -q /content/human-activity-recognition.zip"
      ],
      "metadata": {
        "id": "u0Q1XjqMVJaL"
      },
      "execution_count": null,
      "outputs": []
    },
    {
      "cell_type": "markdown",
      "source": [
        "### Import library"
      ],
      "metadata": {
        "id": "h5zipZiCWlAg"
      }
    },
    {
      "cell_type": "code",
      "source": [
        "import pandas as pd\n",
        "import numpy as np\n",
        "import pickle \n",
        "import matplotlib.pyplot as plt\n",
        "from scipy import stats\n",
        "import keras\n",
        "import seaborn as sns\n",
        "from sklearn import metrics\n",
        "from sklearn.model_selection import train_test_split"
      ],
      "metadata": {
        "id": "AMnmNwHfWoNw"
      },
      "execution_count": null,
      "outputs": []
    },
    {
      "cell_type": "markdown",
      "source": [
        "### Ensuring data"
      ],
      "metadata": {
        "id": "AZ3oZxq9XDLA"
      }
    },
    {
      "cell_type": "code",
      "source": [
        "colums = ['user', 'activity', 'timestamp', 'x-axis', 'y-axis', 'z-axis']\n",
        "df = pd.read_csv('/content/time_series_data_human_activities.csv', header=None, names = colums)\n",
        "df = df.dropna()\n",
        "df.head()"
      ],
      "metadata": {
        "colab": {
          "base_uri": "https://localhost:8080/",
          "height": 241
        },
        "id": "3scTHEreXFQ4",
        "outputId": "98008400-16e8-4b07-e773-a1aa1ed0fc04"
      },
      "execution_count": null,
      "outputs": [
        {
          "output_type": "stream",
          "name": "stderr",
          "text": [
            "<ipython-input-24-a6e10b0a20c2>:2: DtypeWarning: Columns (0,2,3,4,5) have mixed types. Specify dtype option on import or set low_memory=False.\n",
            "  df = pd.read_csv('/content/time_series_data_human_activities.csv', header=None, names = colums)\n"
          ]
        },
        {
          "output_type": "execute_result",
          "data": {
            "text/plain": [
              "   user  activity      timestamp  x-axis  y-axis  z-axis\n",
              "0  user  activity      timestamp  x-axis  y-axis  z-axis\n",
              "1     1   Walking  4991922345000    0.69    10.8   -2.03\n",
              "2     1   Walking  4991972333000    6.85    7.44    -0.5\n",
              "3     1   Walking  4992022351000    0.93    5.63    -0.5\n",
              "4     1   Walking  4992072339000   -2.11    5.01   -0.69"
            ],
            "text/html": [
              "\n",
              "  <div id=\"df-0dced85f-a428-4c2f-bc2b-0d3b9b6a6ef5\">\n",
              "    <div class=\"colab-df-container\">\n",
              "      <div>\n",
              "<style scoped>\n",
              "    .dataframe tbody tr th:only-of-type {\n",
              "        vertical-align: middle;\n",
              "    }\n",
              "\n",
              "    .dataframe tbody tr th {\n",
              "        vertical-align: top;\n",
              "    }\n",
              "\n",
              "    .dataframe thead th {\n",
              "        text-align: right;\n",
              "    }\n",
              "</style>\n",
              "<table border=\"1\" class=\"dataframe\">\n",
              "  <thead>\n",
              "    <tr style=\"text-align: right;\">\n",
              "      <th></th>\n",
              "      <th>user</th>\n",
              "      <th>activity</th>\n",
              "      <th>timestamp</th>\n",
              "      <th>x-axis</th>\n",
              "      <th>y-axis</th>\n",
              "      <th>z-axis</th>\n",
              "    </tr>\n",
              "  </thead>\n",
              "  <tbody>\n",
              "    <tr>\n",
              "      <th>0</th>\n",
              "      <td>user</td>\n",
              "      <td>activity</td>\n",
              "      <td>timestamp</td>\n",
              "      <td>x-axis</td>\n",
              "      <td>y-axis</td>\n",
              "      <td>z-axis</td>\n",
              "    </tr>\n",
              "    <tr>\n",
              "      <th>1</th>\n",
              "      <td>1</td>\n",
              "      <td>Walking</td>\n",
              "      <td>4991922345000</td>\n",
              "      <td>0.69</td>\n",
              "      <td>10.8</td>\n",
              "      <td>-2.03</td>\n",
              "    </tr>\n",
              "    <tr>\n",
              "      <th>2</th>\n",
              "      <td>1</td>\n",
              "      <td>Walking</td>\n",
              "      <td>4991972333000</td>\n",
              "      <td>6.85</td>\n",
              "      <td>7.44</td>\n",
              "      <td>-0.5</td>\n",
              "    </tr>\n",
              "    <tr>\n",
              "      <th>3</th>\n",
              "      <td>1</td>\n",
              "      <td>Walking</td>\n",
              "      <td>4992022351000</td>\n",
              "      <td>0.93</td>\n",
              "      <td>5.63</td>\n",
              "      <td>-0.5</td>\n",
              "    </tr>\n",
              "    <tr>\n",
              "      <th>4</th>\n",
              "      <td>1</td>\n",
              "      <td>Walking</td>\n",
              "      <td>4992072339000</td>\n",
              "      <td>-2.11</td>\n",
              "      <td>5.01</td>\n",
              "      <td>-0.69</td>\n",
              "    </tr>\n",
              "  </tbody>\n",
              "</table>\n",
              "</div>\n",
              "      <button class=\"colab-df-convert\" onclick=\"convertToInteractive('df-0dced85f-a428-4c2f-bc2b-0d3b9b6a6ef5')\"\n",
              "              title=\"Convert this dataframe to an interactive table.\"\n",
              "              style=\"display:none;\">\n",
              "        \n",
              "  <svg xmlns=\"http://www.w3.org/2000/svg\" height=\"24px\"viewBox=\"0 0 24 24\"\n",
              "       width=\"24px\">\n",
              "    <path d=\"M0 0h24v24H0V0z\" fill=\"none\"/>\n",
              "    <path d=\"M18.56 5.44l.94 2.06.94-2.06 2.06-.94-2.06-.94-.94-2.06-.94 2.06-2.06.94zm-11 1L8.5 8.5l.94-2.06 2.06-.94-2.06-.94L8.5 2.5l-.94 2.06-2.06.94zm10 10l.94 2.06.94-2.06 2.06-.94-2.06-.94-.94-2.06-.94 2.06-2.06.94z\"/><path d=\"M17.41 7.96l-1.37-1.37c-.4-.4-.92-.59-1.43-.59-.52 0-1.04.2-1.43.59L10.3 9.45l-7.72 7.72c-.78.78-.78 2.05 0 2.83L4 21.41c.39.39.9.59 1.41.59.51 0 1.02-.2 1.41-.59l7.78-7.78 2.81-2.81c.8-.78.8-2.07 0-2.86zM5.41 20L4 18.59l7.72-7.72 1.47 1.35L5.41 20z\"/>\n",
              "  </svg>\n",
              "      </button>\n",
              "      \n",
              "  <style>\n",
              "    .colab-df-container {\n",
              "      display:flex;\n",
              "      flex-wrap:wrap;\n",
              "      gap: 12px;\n",
              "    }\n",
              "\n",
              "    .colab-df-convert {\n",
              "      background-color: #E8F0FE;\n",
              "      border: none;\n",
              "      border-radius: 50%;\n",
              "      cursor: pointer;\n",
              "      display: none;\n",
              "      fill: #1967D2;\n",
              "      height: 32px;\n",
              "      padding: 0 0 0 0;\n",
              "      width: 32px;\n",
              "    }\n",
              "\n",
              "    .colab-df-convert:hover {\n",
              "      background-color: #E2EBFA;\n",
              "      box-shadow: 0px 1px 2px rgba(60, 64, 67, 0.3), 0px 1px 3px 1px rgba(60, 64, 67, 0.15);\n",
              "      fill: #174EA6;\n",
              "    }\n",
              "\n",
              "    [theme=dark] .colab-df-convert {\n",
              "      background-color: #3B4455;\n",
              "      fill: #D2E3FC;\n",
              "    }\n",
              "\n",
              "    [theme=dark] .colab-df-convert:hover {\n",
              "      background-color: #434B5C;\n",
              "      box-shadow: 0px 1px 3px 1px rgba(0, 0, 0, 0.15);\n",
              "      filter: drop-shadow(0px 1px 2px rgba(0, 0, 0, 0.3));\n",
              "      fill: #FFFFFF;\n",
              "    }\n",
              "  </style>\n",
              "\n",
              "      <script>\n",
              "        const buttonEl =\n",
              "          document.querySelector('#df-0dced85f-a428-4c2f-bc2b-0d3b9b6a6ef5 button.colab-df-convert');\n",
              "        buttonEl.style.display =\n",
              "          google.colab.kernel.accessAllowed ? 'block' : 'none';\n",
              "\n",
              "        async function convertToInteractive(key) {\n",
              "          const element = document.querySelector('#df-0dced85f-a428-4c2f-bc2b-0d3b9b6a6ef5');\n",
              "          const dataTable =\n",
              "            await google.colab.kernel.invokeFunction('convertToInteractive',\n",
              "                                                     [key], {});\n",
              "          if (!dataTable) return;\n",
              "\n",
              "          const docLinkHtml = 'Like what you see? Visit the ' +\n",
              "            '<a target=\"_blank\" href=https://colab.research.google.com/notebooks/data_table.ipynb>data table notebook</a>'\n",
              "            + ' to learn more about interactive tables.';\n",
              "          element.innerHTML = '';\n",
              "          dataTable['output_type'] = 'display_data';\n",
              "          await google.colab.output.renderOutput(dataTable, element);\n",
              "          const docLink = document.createElement('div');\n",
              "          docLink.innerHTML = docLinkHtml;\n",
              "          element.appendChild(docLink);\n",
              "        }\n",
              "      </script>\n",
              "    </div>\n",
              "  </div>\n",
              "  "
            ]
          },
          "metadata": {},
          "execution_count": 24
        }
      ]
    },
    {
      "cell_type": "code",
      "source": [
        "df = df.drop(index=0)"
      ],
      "metadata": {
        "id": "zFVKgGtqXtNp"
      },
      "execution_count": null,
      "outputs": []
    },
    {
      "cell_type": "code",
      "source": [
        "df.head()"
      ],
      "metadata": {
        "colab": {
          "base_uri": "https://localhost:8080/",
          "height": 206
        },
        "id": "q5PFobdyXx64",
        "outputId": "2dff790c-d5a8-42bb-a946-f572c5c82dbc"
      },
      "execution_count": null,
      "outputs": [
        {
          "output_type": "execute_result",
          "data": {
            "text/plain": [
              "  user activity      timestamp x-axis y-axis z-axis\n",
              "1    1  Walking  4991922345000   0.69   10.8  -2.03\n",
              "2    1  Walking  4991972333000   6.85   7.44   -0.5\n",
              "3    1  Walking  4992022351000   0.93   5.63   -0.5\n",
              "4    1  Walking  4992072339000  -2.11   5.01  -0.69\n",
              "5    1  Walking  4992122358000  -4.59   4.29  -1.95"
            ],
            "text/html": [
              "\n",
              "  <div id=\"df-fcdf5e80-2b0c-4620-9b1e-ab7a0b0b41a1\">\n",
              "    <div class=\"colab-df-container\">\n",
              "      <div>\n",
              "<style scoped>\n",
              "    .dataframe tbody tr th:only-of-type {\n",
              "        vertical-align: middle;\n",
              "    }\n",
              "\n",
              "    .dataframe tbody tr th {\n",
              "        vertical-align: top;\n",
              "    }\n",
              "\n",
              "    .dataframe thead th {\n",
              "        text-align: right;\n",
              "    }\n",
              "</style>\n",
              "<table border=\"1\" class=\"dataframe\">\n",
              "  <thead>\n",
              "    <tr style=\"text-align: right;\">\n",
              "      <th></th>\n",
              "      <th>user</th>\n",
              "      <th>activity</th>\n",
              "      <th>timestamp</th>\n",
              "      <th>x-axis</th>\n",
              "      <th>y-axis</th>\n",
              "      <th>z-axis</th>\n",
              "    </tr>\n",
              "  </thead>\n",
              "  <tbody>\n",
              "    <tr>\n",
              "      <th>1</th>\n",
              "      <td>1</td>\n",
              "      <td>Walking</td>\n",
              "      <td>4991922345000</td>\n",
              "      <td>0.69</td>\n",
              "      <td>10.8</td>\n",
              "      <td>-2.03</td>\n",
              "    </tr>\n",
              "    <tr>\n",
              "      <th>2</th>\n",
              "      <td>1</td>\n",
              "      <td>Walking</td>\n",
              "      <td>4991972333000</td>\n",
              "      <td>6.85</td>\n",
              "      <td>7.44</td>\n",
              "      <td>-0.5</td>\n",
              "    </tr>\n",
              "    <tr>\n",
              "      <th>3</th>\n",
              "      <td>1</td>\n",
              "      <td>Walking</td>\n",
              "      <td>4992022351000</td>\n",
              "      <td>0.93</td>\n",
              "      <td>5.63</td>\n",
              "      <td>-0.5</td>\n",
              "    </tr>\n",
              "    <tr>\n",
              "      <th>4</th>\n",
              "      <td>1</td>\n",
              "      <td>Walking</td>\n",
              "      <td>4992072339000</td>\n",
              "      <td>-2.11</td>\n",
              "      <td>5.01</td>\n",
              "      <td>-0.69</td>\n",
              "    </tr>\n",
              "    <tr>\n",
              "      <th>5</th>\n",
              "      <td>1</td>\n",
              "      <td>Walking</td>\n",
              "      <td>4992122358000</td>\n",
              "      <td>-4.59</td>\n",
              "      <td>4.29</td>\n",
              "      <td>-1.95</td>\n",
              "    </tr>\n",
              "  </tbody>\n",
              "</table>\n",
              "</div>\n",
              "      <button class=\"colab-df-convert\" onclick=\"convertToInteractive('df-fcdf5e80-2b0c-4620-9b1e-ab7a0b0b41a1')\"\n",
              "              title=\"Convert this dataframe to an interactive table.\"\n",
              "              style=\"display:none;\">\n",
              "        \n",
              "  <svg xmlns=\"http://www.w3.org/2000/svg\" height=\"24px\"viewBox=\"0 0 24 24\"\n",
              "       width=\"24px\">\n",
              "    <path d=\"M0 0h24v24H0V0z\" fill=\"none\"/>\n",
              "    <path d=\"M18.56 5.44l.94 2.06.94-2.06 2.06-.94-2.06-.94-.94-2.06-.94 2.06-2.06.94zm-11 1L8.5 8.5l.94-2.06 2.06-.94-2.06-.94L8.5 2.5l-.94 2.06-2.06.94zm10 10l.94 2.06.94-2.06 2.06-.94-2.06-.94-.94-2.06-.94 2.06-2.06.94z\"/><path d=\"M17.41 7.96l-1.37-1.37c-.4-.4-.92-.59-1.43-.59-.52 0-1.04.2-1.43.59L10.3 9.45l-7.72 7.72c-.78.78-.78 2.05 0 2.83L4 21.41c.39.39.9.59 1.41.59.51 0 1.02-.2 1.41-.59l7.78-7.78 2.81-2.81c.8-.78.8-2.07 0-2.86zM5.41 20L4 18.59l7.72-7.72 1.47 1.35L5.41 20z\"/>\n",
              "  </svg>\n",
              "      </button>\n",
              "      \n",
              "  <style>\n",
              "    .colab-df-container {\n",
              "      display:flex;\n",
              "      flex-wrap:wrap;\n",
              "      gap: 12px;\n",
              "    }\n",
              "\n",
              "    .colab-df-convert {\n",
              "      background-color: #E8F0FE;\n",
              "      border: none;\n",
              "      border-radius: 50%;\n",
              "      cursor: pointer;\n",
              "      display: none;\n",
              "      fill: #1967D2;\n",
              "      height: 32px;\n",
              "      padding: 0 0 0 0;\n",
              "      width: 32px;\n",
              "    }\n",
              "\n",
              "    .colab-df-convert:hover {\n",
              "      background-color: #E2EBFA;\n",
              "      box-shadow: 0px 1px 2px rgba(60, 64, 67, 0.3), 0px 1px 3px 1px rgba(60, 64, 67, 0.15);\n",
              "      fill: #174EA6;\n",
              "    }\n",
              "\n",
              "    [theme=dark] .colab-df-convert {\n",
              "      background-color: #3B4455;\n",
              "      fill: #D2E3FC;\n",
              "    }\n",
              "\n",
              "    [theme=dark] .colab-df-convert:hover {\n",
              "      background-color: #434B5C;\n",
              "      box-shadow: 0px 1px 3px 1px rgba(0, 0, 0, 0.15);\n",
              "      filter: drop-shadow(0px 1px 2px rgba(0, 0, 0, 0.3));\n",
              "      fill: #FFFFFF;\n",
              "    }\n",
              "  </style>\n",
              "\n",
              "      <script>\n",
              "        const buttonEl =\n",
              "          document.querySelector('#df-fcdf5e80-2b0c-4620-9b1e-ab7a0b0b41a1 button.colab-df-convert');\n",
              "        buttonEl.style.display =\n",
              "          google.colab.kernel.accessAllowed ? 'block' : 'none';\n",
              "\n",
              "        async function convertToInteractive(key) {\n",
              "          const element = document.querySelector('#df-fcdf5e80-2b0c-4620-9b1e-ab7a0b0b41a1');\n",
              "          const dataTable =\n",
              "            await google.colab.kernel.invokeFunction('convertToInteractive',\n",
              "                                                     [key], {});\n",
              "          if (!dataTable) return;\n",
              "\n",
              "          const docLinkHtml = 'Like what you see? Visit the ' +\n",
              "            '<a target=\"_blank\" href=https://colab.research.google.com/notebooks/data_table.ipynb>data table notebook</a>'\n",
              "            + ' to learn more about interactive tables.';\n",
              "          element.innerHTML = '';\n",
              "          dataTable['output_type'] = 'display_data';\n",
              "          await google.colab.output.renderOutput(dataTable, element);\n",
              "          const docLink = document.createElement('div');\n",
              "          docLink.innerHTML = docLinkHtml;\n",
              "          element.appendChild(docLink);\n",
              "        }\n",
              "      </script>\n",
              "    </div>\n",
              "  </div>\n",
              "  "
            ]
          },
          "metadata": {},
          "execution_count": 26
        }
      ]
    },
    {
      "cell_type": "code",
      "source": [
        "df.info()"
      ],
      "metadata": {
        "colab": {
          "base_uri": "https://localhost:8080/"
        },
        "id": "Ys85jG00YuOG",
        "outputId": "e64c400f-9776-4c1e-8b8c-969a384e2ac0"
      },
      "execution_count": null,
      "outputs": [
        {
          "output_type": "stream",
          "name": "stdout",
          "text": [
            "<class 'pandas.core.frame.DataFrame'>\n",
            "RangeIndex: 1073623 entries, 1 to 1073623\n",
            "Data columns (total 6 columns):\n",
            " #   Column     Non-Null Count    Dtype  \n",
            "---  ------     --------------    -----  \n",
            " 0   user       1073623 non-null  int64  \n",
            " 1   activity   1073623 non-null  object \n",
            " 2   timestamp  1073623 non-null  int64  \n",
            " 3   x-axis     1073623 non-null  float64\n",
            " 4   y-axis     1073623 non-null  float64\n",
            " 5   z-axis     1073623 non-null  float64\n",
            "dtypes: float64(3), int64(2), object(1)\n",
            "memory usage: 49.1+ MB\n"
          ]
        }
      ]
    },
    {
      "cell_type": "code",
      "source": [
        "df['z-axis'] = df['z-axis'].astype(float)\n",
        "df['x-axis'] = df['x-axis'].astype(float)\n",
        "df['y-axis'] = df['y-axis'].astype(float)\n",
        "df['user'] = df['user'].astype(int)\n",
        "df['timestamp'] = df['timestamp'].astype(int)"
      ],
      "metadata": {
        "id": "7CpyxhnFZbrN"
      },
      "execution_count": null,
      "outputs": []
    },
    {
      "cell_type": "markdown",
      "source": [
        "### Exploration"
      ],
      "metadata": {
        "id": "NgamatlNanmj"
      }
    },
    {
      "cell_type": "code",
      "source": [
        "countOfActivity = df['activity'].value_counts()\n",
        "countOfActivity"
      ],
      "metadata": {
        "colab": {
          "base_uri": "https://localhost:8080/"
        },
        "id": "OdtylinYaptK",
        "outputId": "9e0a2e22-8b15-4bef-f40e-8e19de5af4dc"
      },
      "execution_count": null,
      "outputs": [
        {
          "output_type": "execute_result",
          "data": {
            "text/plain": [
              "Walking       417901\n",
              "Jogging       324600\n",
              "Upstairs      122598\n",
              "Downstairs    100192\n",
              "Sitting        59939\n",
              "Standing       48393\n",
              "Name: activity, dtype: int64"
            ]
          },
          "metadata": {},
          "execution_count": 11
        }
      ]
    },
    {
      "cell_type": "code",
      "source": [
        "countOfActivity.plot(kind='bar', title= 'Trainig ex', figsize=(14,8))"
      ],
      "metadata": {
        "colab": {
          "base_uri": "https://localhost:8080/",
          "height": 779
        },
        "id": "fXbB9953azg7",
        "outputId": "7cfdaaa3-19f0-4e80-cbd7-9ed756969cd7"
      },
      "execution_count": null,
      "outputs": [
        {
          "output_type": "execute_result",
          "data": {
            "text/plain": [
              "<Axes: title={'center': 'Trainig ex'}>"
            ]
          },
          "metadata": {},
          "execution_count": 43
        },
        {
          "output_type": "display_data",
          "data": {
            "text/plain": [
              "<Figure size 1400x800 with 1 Axes>"
            ],
            "image/png": "[encoded data removed]"
          },
          "metadata": {}
        }
      ]
    },
    {
      "cell_type": "markdown",
      "source": [
        "### No of samples belong to each volunteer"
      ],
      "metadata": {
        "id": "q8_GI_vKbMXW"
      }
    },
    {
      "cell_type": "code",
      "source": [
        "countOfActivityPerPerson = df['user'].value_counts()\n",
        "print(countOfActivityPerPerson)\n",
        "totalActivity = countOfActivityPerPerson.sum()\n",
        "print('total' + str(totalActivity))"
      ],
      "metadata": {
        "colab": {
          "base_uri": "https://localhost:8080/"
        },
        "id": "gIWTxQ5mbRBq",
        "outputId": "1295d537-5dee-4094-999a-6fb7526fecc1"
      },
      "execution_count": null,
      "outputs": [
        {
          "output_type": "stream",
          "name": "stdout",
          "text": [
            "20    54294\n",
            "19    45382\n",
            "31    44282\n",
            "8     41187\n",
            "14    38192\n",
            "29    36768\n",
            "13    36063\n",
            "34    35947\n",
            "3     35158\n",
            "10    34875\n",
            "27    33456\n",
            "32    33357\n",
            "12    32641\n",
            "26    32578\n",
            "36    32108\n",
            "18    31705\n",
            "11    31658\n",
            "7     30967\n",
            "1     29978\n",
            "33    29453\n",
            "6     28703\n",
            "5     28509\n",
            "15    26082\n",
            "24    25736\n",
            "23    25673\n",
            "30    25334\n",
            "21    23703\n",
            "2     23525\n",
            "35    22394\n",
            "22    22308\n",
            "17    22020\n",
            "28    21358\n",
            "16    20469\n",
            "25    13468\n",
            "9     12923\n",
            "4     11369\n",
            "Name: user, dtype: int64\n",
            "total1073623\n"
          ]
        }
      ]
    },
    {
      "cell_type": "code",
      "source": [
        "countOfActivityPerPerson.plot(kind='bar', title='by user', figsize=(14,8))"
      ],
      "metadata": {
        "colab": {
          "base_uri": "https://localhost:8080/",
          "height": 719
        },
        "id": "xcIOEMO7bpQK",
        "outputId": "22b7fc57-73ec-4e7a-c78d-228e6bb00dd5"
      },
      "execution_count": null,
      "outputs": [
        {
          "output_type": "execute_result",
          "data": {
            "text/plain": [
              "<Axes: title={'center': 'by user'}>"
            ]
          },
          "metadata": {},
          "execution_count": 46
        },
        {
          "output_type": "display_data",
          "data": {
            "text/plain": [
              "<Figure size 1400x800 with 1 Axes>"
            ],
            "image/png": "[encoded data removed]"
          },
          "metadata": {}
        }
      ]
    },
    {
      "cell_type": "markdown",
      "source": [
        "### Data Preprocessing"
      ],
      "metadata": {
        "id": "LF_IL_Aub5dw"
      }
    },
    {
      "cell_type": "code",
      "source": [
        "N_TIME_STEPS = 200\n",
        "N_FEATURES = 3\n",
        "step = 20\n",
        "segments = []\n",
        "labels = []\n",
        "for i in range(0, len(df) - N_TIME_STEPS, step):\n",
        "    xs = df['x-axis'].values[i: i + N_TIME_STEPS]\n",
        "    ys = df['y-axis'].values[i: i + N_TIME_STEPS]\n",
        "    zs = df['z-axis'].values[i: i + N_TIME_STEPS]\n",
        "    label = stats.mode(df['activity'][i: i + N_TIME_STEPS])\n",
        "    label = label[0][0]\n",
        "    segments.append([xs, ys, zs])\n",
        "    labels.append(label)"
      ],
      "metadata": {
        "colab": {
          "base_uri": "https://localhost:8080/"
        },
        "id": "_dotdpJnb9hB",
        "outputId": "a8dd66f0-7cf3-4739-ad9b-bde19db0ce03"
      },
      "execution_count": null,
      "outputs": [
        {
          "output_type": "stream",
          "name": "stderr",
          "text": [
            "<ipython-input-31-10532c51bd88>:10: FutureWarning: Unlike other reduction functions (e.g. `skew`, `kurtosis`), the default behavior of `mode` typically preserves the axis it acts along. In SciPy 1.11.0, this behavior will change: the default value of `keepdims` will become False, the `axis` over which the statistic is taken will be eliminated, and the value None will no longer be accepted. Set `keepdims` to True or False to avoid this warning.\n",
            "  label = stats.mode(df['activity'][i: i + N_TIME_STEPS])\n",
            "<ipython-input-31-10532c51bd88>:10: DeprecationWarning: Support for non-numeric arrays has been deprecated as of SciPy 1.9.0 and will be removed in 1.11.0. `pandas.DataFrame.mode` can be used instead, see https://pandas.pydata.org/docs/reference/api/pandas.DataFrame.mode.html.\n",
            "  label = stats.mode(df['activity'][i: i + N_TIME_STEPS])\n"
          ]
        }
      ]
    },
    {
      "cell_type": "code",
      "source": [
        "np.array(segments).shape"
      ],
      "metadata": {
        "colab": {
          "base_uri": "https://localhost:8080/"
        },
        "id": "5mSDojJicvbJ",
        "outputId": "c7be29c7-da90-4973-ccf4-948fc1200436"
      },
      "execution_count": null,
      "outputs": [
        {
          "output_type": "execute_result",
          "data": {
            "text/plain": [
              "(53672, 3, 200)"
            ]
          },
          "metadata": {},
          "execution_count": 32
        }
      ]
    },
    {
      "cell_type": "markdown",
      "source": [
        "### Transforming shape of segments"
      ],
      "metadata": {
        "id": "ckqslEMNc-8X"
      }
    },
    {
      "cell_type": "code",
      "source": [
        "reshaped_segments = np.asarray(segments, dtype = np.float32).reshape(-1, N_TIME_STEPS, N_FEATURES)\n",
        "reshaped_segments.shape"
      ],
      "metadata": {
        "colab": {
          "base_uri": "https://localhost:8080/"
        },
        "id": "jZDASr-xdBy3",
        "outputId": "922820d9-7ee9-41d7-d838-e83efc85bb66"
      },
      "execution_count": null,
      "outputs": [
        {
          "output_type": "execute_result",
          "data": {
            "text/plain": [
              "(53672, 200, 3)"
            ]
          },
          "metadata": {},
          "execution_count": 33
        }
      ]
    },
    {
      "cell_type": "markdown",
      "source": [
        "### One hot encoding of labels"
      ],
      "metadata": {
        "id": "BinR1Ic6dUaG"
      }
    },
    {
      "cell_type": "code",
      "source": [
        "labels = np.asarray(pd.get_dummies(labels), dtype = np.float32)\n",
        "print(labels)\n",
        "print(labels.shape)"
      ],
      "metadata": {
        "colab": {
          "base_uri": "https://localhost:8080/"
        },
        "id": "MMR6VVz0dYGp",
        "outputId": "754c84e8-2a04-4779-ba55-180a5db19bde"
      },
      "execution_count": null,
      "outputs": [
        {
          "output_type": "stream",
          "name": "stdout",
          "text": [
            "[[0. 0. 0. 0. 0. 1.]\n",
            " [0. 0. 0. 0. 0. 1.]\n",
            " [0. 0. 0. 0. 0. 1.]\n",
            " ...\n",
            " [0. 0. 0. 1. 0. 0.]\n",
            " [0. 0. 0. 1. 0. 0.]\n",
            " [0. 0. 0. 1. 0. 0.]]\n",
            "(53672, 6)\n"
          ]
        }
      ]
    },
    {
      "cell_type": "code",
      "source": [
        "X_train, X_test, y_train, y_test = train_test_split(reshaped_segments, labels, test_size=0.2, random_state=100)"
      ],
      "metadata": {
        "id": "6LQvdUW0dlYv"
      },
      "execution_count": null,
      "outputs": []
    },
    {
      "cell_type": "code",
      "source": [
        "print(X_train.shape, y_train.shape)"
      ],
      "metadata": {
        "colab": {
          "base_uri": "https://localhost:8080/"
        },
        "id": "qzSFOMT6eZWZ",
        "outputId": "923e518f-b9fc-4d41-b11a-fa815fb3d3fa"
      },
      "execution_count": null,
      "outputs": [
        {
          "output_type": "stream",
          "name": "stdout",
          "text": [
            "(42937, 200, 3) (42937, 6)\n"
          ]
        }
      ]
    },
    {
      "cell_type": "markdown",
      "source": [
        "### Building the model"
      ],
      "metadata": {
        "id": "6q3BewjYd47G"
      }
    },
    {
      "cell_type": "code",
      "source": [
        "from keras.layers import LSTM, Dense, Dropout, Flatten\n",
        "from keras.models import Sequential"
      ],
      "metadata": {
        "id": "AUV-v3C-d64m"
      },
      "execution_count": null,
      "outputs": []
    },
    {
      "cell_type": "code",
      "source": [
        "model = Sequential()\n",
        "model.add(LSTM(units=50, return_sequences=True, input_shape=(200, 3)))\n",
        "model.add(Dropout(0.2))\n",
        "model.add(LSTM(units=50, return_sequences=True))\n",
        "model.add(Dropout(0.2))\n",
        "model.add(LSTM(units=50, return_sequences=True))\n",
        "model.add(Dropout(0.2))\n",
        "model.add(LSTM(units=50))\n",
        "model.add(Dropout(0.2))\n",
        "model.add(Dense(50, activation='relu'))\n",
        "model.add(Dense(10, activation='relu'))\n",
        "model.add(Dense(units=6, activation='softmax'))\n",
        "model.compile(optimizer=\"Adam\", metrics=['accuracy'], loss='categorical_crossentropy')"
      ],
      "metadata": {
        "id": "aRxHq8cReEDu"
      },
      "execution_count": null,
      "outputs": []
    },
    {
      "cell_type": "code",
      "source": [
        "model.fit(X_train, y_train, epochs=16, batch_size=32, validation_data=(X_test, y_test))\n",
        "model.save(\"model.hdf5\")\n"
      ],
      "metadata": {
        "colab": {
          "base_uri": "https://localhost:8080/"
        },
        "id": "iC7ECswgfga7",
        "outputId": "7afd946d-50b8-47c2-b475-1624dabb1e45"
      },
      "execution_count": null,
      "outputs": [
        {
          "output_type": "stream",
          "name": "stdout",
          "text": [
            "Epoch 1/16\n",
            "1342/1342 [==============================] - 53s 32ms/step - loss: 0.7569 - accuracy: 0.7335 - val_loss: 0.5538 - val_accuracy: 0.8024\n",
            "Epoch 2/16\n",
            "1342/1342 [==============================] - 50s 37ms/step - loss: 0.5027 - accuracy: 0.8138 - val_loss: 1.0881 - val_accuracy: 0.6459\n",
            "Epoch 3/16\n",
            "1342/1342 [==============================] - 41s 31ms/step - loss: 0.4052 - accuracy: 0.8415 - val_loss: 0.3153 - val_accuracy: 0.8759\n",
            "Epoch 4/16\n",
            "1342/1342 [==============================] - 44s 33ms/step - loss: 0.3033 - accuracy: 0.8820 - val_loss: 0.2844 - val_accuracy: 0.8904\n",
            "Epoch 5/16\n",
            "1342/1342 [==============================] - 42s 31ms/step - loss: 0.2699 - accuracy: 0.8972 - val_loss: 0.2278 - val_accuracy: 0.9095\n",
            "Epoch 6/16\n",
            "1342/1342 [==============================] - 42s 31ms/step - loss: 0.2308 - accuracy: 0.9138 - val_loss: 0.1949 - val_accuracy: 0.9273\n",
            "Epoch 7/16\n",
            "1342/1342 [==============================] - 42s 31ms/step - loss: 0.1924 - accuracy: 0.9303 - val_loss: 0.1668 - val_accuracy: 0.9386\n",
            "Epoch 8/16\n",
            "1342/1342 [==============================] - 41s 31ms/step - loss: 0.1900 - accuracy: 0.9325 - val_loss: 0.1624 - val_accuracy: 0.9465\n",
            "Epoch 9/16\n",
            "1342/1342 [==============================] - 41s 30ms/step - loss: 0.1523 - accuracy: 0.9475 - val_loss: 0.1469 - val_accuracy: 0.9463\n",
            "Epoch 10/16\n",
            "1342/1342 [==============================] - 48s 36ms/step - loss: 0.1397 - accuracy: 0.9519 - val_loss: 0.1558 - val_accuracy: 0.9476\n",
            "Epoch 11/16\n",
            "1342/1342 [==============================] - 52s 39ms/step - loss: 0.1206 - accuracy: 0.9584 - val_loss: 0.1154 - val_accuracy: 0.9595\n",
            "Epoch 12/16\n",
            "1342/1342 [==============================] - 49s 36ms/step - loss: 0.1119 - accuracy: 0.9615 - val_loss: 0.1376 - val_accuracy: 0.9515\n",
            "Epoch 13/16\n",
            "1342/1342 [==============================] - 54s 40ms/step - loss: 0.0997 - accuracy: 0.9660 - val_loss: 0.0962 - val_accuracy: 0.9667\n",
            "Epoch 14/16\n",
            "1342/1342 [==============================] - 42s 31ms/step - loss: 0.0878 - accuracy: 0.9695 - val_loss: 0.0817 - val_accuracy: 0.9727\n",
            "Epoch 15/16\n",
            "1342/1342 [==============================] - 53s 39ms/step - loss: 0.0827 - accuracy: 0.9714 - val_loss: 0.0713 - val_accuracy: 0.9763\n",
            "Epoch 16/16\n",
            "1342/1342 [==============================] - 52s 39ms/step - loss: 0.0718 - accuracy: 0.9761 - val_loss: 0.0772 - val_accuracy: 0.9737\n"
          ]
        }
      ]
    },
    {
      "cell_type": "code",
      "source": [
        "score = model.evaluate(X_test, y_test, verbose = 0)\n",
        "print(score)"
      ],
      "metadata": {
        "colab": {
          "base_uri": "https://localhost:8080/"
        },
        "id": "gbRFKe-wjtJW",
        "outputId": "76706b20-87ae-495f-b5b4-09979dacf4eb"
      },
      "execution_count": null,
      "outputs": [
        {
          "output_type": "stream",
          "name": "stdout",
          "text": [
            "[0.09569194912910461, 0.9659990668296814]\n"
          ]
        }
      ]
    }
  ]
}
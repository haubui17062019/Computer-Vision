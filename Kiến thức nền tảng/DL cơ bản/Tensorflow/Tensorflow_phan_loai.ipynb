{
  "nbformat": 4,
  "nbformat_minor": 0,
  "metadata": {
    "colab": {
      "provenance": []
    },
    "kernelspec": {
      "name": "python3",
      "display_name": "Python 3"
    },
    "language_info": {
      "name": "python"
    },
    "accelerator": "GPU"
  },
  "cells": [
    {
      "cell_type": "code",
      "execution_count": null,
      "metadata": {
        "id": "P_at0PsAv0ag"
      },
      "outputs": [],
      "source": [
        "from os import listdir\n",
        "import cv2\n",
        "import numpy as np\n",
        "import pickle\n",
        "from sklearn.preprocessing import OneHotEncoder\n",
        "from sklearn.model_selection import train_test_split\n",
        "from keras.applications.vgg16 import VGG16\n",
        "from keras.layers import Input, Flatten, Dense, Dropout\n",
        "from keras.models import Model\n",
        "from keras.callbacks import ModelCheckpoint\n",
        "import matplotlib.pyplot as plt\n",
        "import random\n",
        "from keras.preprocessing.image import ImageDataGenerator"
      ]
    },
    {
      "cell_type": "code",
      "source": [
        "from google.colab import drive\n",
        "drive.mount('/content/drive')"
      ],
      "metadata": {
        "colab": {
          "base_uri": "https://localhost:8080/"
        },
        "id": "YKb96qjeSec_",
        "outputId": "49e0220a-b705-49ed-b9e6-204df916fe57"
      },
      "execution_count": null,
      "outputs": [
        {
          "output_type": "stream",
          "name": "stdout",
          "text": [
            "Drive already mounted at /content/drive; to attempt to forcibly remount, call drive.mount(\"/content/drive\", force_remount=True).\n"
          ]
        }
      ]
    },
    {
      "cell_type": "code",
      "source": [
        "!pip install -q kaggle\n",
        "from google.colab import files\n",
        "files.upload()\n",
        "# Chọn file kaggle.json tải về ở bước 2 để tải lên\n",
        "\n",
        "!mkdir '/root/.kaggle'\n",
        "!cp kaggle.json '/root/.kaggle'\n",
        "!chmod 600 /root/.kaggle/kaggle.json\n",
        "\n",
        "!kaggle datasets list\n",
        "# Chạy lệnh liệt kê các bộ dữ liệu của bạn để đảm bảo bạn đã cài đặt thành công"
      ],
      "metadata": {
        "id": "UdDlVikwtoPl"
      },
      "execution_count": null,
      "outputs": []
    },
    {
      "cell_type": "code",
      "source": [
        "!kaggle datasets download -d hasibalmuzdadid/shoe-vs-sandal-vs-boot-dataset-15k-images"
      ],
      "metadata": {
        "colab": {
          "base_uri": "https://localhost:8080/"
        },
        "id": "u57hOtPjt9Yt",
        "outputId": "06ab54f9-98bb-4ce9-fbc4-29b4376e35a1"
      },
      "execution_count": null,
      "outputs": [
        {
          "output_type": "stream",
          "name": "stdout",
          "text": [
            "Downloading shoe-vs-sandal-vs-boot-dataset-15k-images.zip to /content\n",
            " 70% 33.0M/47.0M [00:00<00:00, 110MB/s] \n",
            "100% 47.0M/47.0M [00:00<00:00, 122MB/s]\n"
          ]
        }
      ]
    },
    {
      "cell_type": "code",
      "source": [
        "!unzip -q shoe-vs-sandal-vs-boot-dataset-15k-images.zip"
      ],
      "metadata": {
        "id": "sErhXftIuy8b"
      },
      "execution_count": null,
      "outputs": []
    },
    {
      "cell_type": "code",
      "source": [
        "raw_folder = \"/content/Shoe vs Sandal vs Boot Dataset/\""
      ],
      "metadata": {
        "id": "CRIZTEzCwFnb"
      },
      "execution_count": null,
      "outputs": []
    },
    {
      "cell_type": "code",
      "source": [
        "def save_data(raw_folder=raw_folder):\n",
        "    dest_size=(128,128)\n",
        "    print(\"Start Processing\")\n",
        "    pixels = []\n",
        "    labels = []\n",
        "\n",
        "    #load tung thu muc con\n",
        "    for folder in listdir(raw_folder):\n",
        "        if folder!='.DS_Store':\n",
        "            print(\"Folder=\", folder)\n",
        "            # load cac anh\n",
        "            for file in listdir(raw_folder+folder):\n",
        "                print(\"File=\",file)\n",
        "                pixels.append(cv2.resize(cv2.imread(raw_folder+folder+\"/\"+file), dsize=(dest_size)))\n",
        "                labels.append(folder)\n",
        "\n",
        "    pixels=np.array(pixels)\n",
        "    labels = np.array(labels) #reshape(-1,1)\n",
        "\n",
        "    from sklearn.preprocessing import LabelBinarizer\n",
        "    encoder = LabelBinarizer()\n",
        "    labels = encoder.fit_transform(labels)\n",
        "    # print(labels)\n",
        "\n",
        "    file = open('pix.data', 'wb')\n",
        "    # ket xuat thong tin vao tep do\n",
        "    pickle.dump((pixels, labels), file)\n",
        "    # dong file\n",
        "    file.close()\n",
        "    return\n",
        "\n",
        "def load_data():\n",
        "    file = open('pix.data', 'rb')\n",
        "    (pixels, labels)= pickle.load(file)\n",
        "    file.close()\n",
        "    # print(pixels.shape)\n",
        "    # print(labels.shape)\n",
        "    return pixels, labels"
      ],
      "metadata": {
        "id": "Mna7jK53wMqI"
      },
      "execution_count": null,
      "outputs": []
    },
    {
      "cell_type": "code",
      "source": [
        "save_data()\n",
        "X,y=load_data()\n",
        "X_train, X_test, y_train, y_test=train_test_split(X,y, test_size=0.2, random_state=100)\n",
        "print(X_train.shape)\n",
        "print(y_train.shape)"
      ],
      "metadata": {
        "id": "CyILa4MuwIsB"
      },
      "execution_count": null,
      "outputs": []
    },
    {
      "cell_type": "code",
      "source": [
        "def get_model():\n",
        "    model_vgg16_conv=VGG16(weights='imagenet', include_top=False)\n",
        "\n",
        "    #dong bang cac layer\n",
        "    for layer in model_vgg16_conv.layers:\n",
        "        layer.trainable=False\n",
        "\n",
        "    #tao model\n",
        "    input = Input(shape=(128,128,3), name='image_input')\n",
        "    output_vgg16_conv=model_vgg16_conv(input)\n",
        "\n",
        "    #them cac layer FC va Dropout\n",
        "    x = Flatten(name='flatten')(output_vgg16_conv)\n",
        "    x = Dense(4096, activation='relu', name='fc1')(x)\n",
        "    x = Dropout(0.5)(x)\n",
        "    x = Dense(4096, activation='relu', name='fc2')(x)\n",
        "    x = Dropout(0.5)(x)\n",
        "    x = Dense(3, activation='softmax', name='predictions')(x)\n",
        "\n",
        "    #compile\n",
        "    my_model = Model(inputs=input, outputs=x)\n",
        "    my_model.compile(loss='categorical_crossentropy', optimizer='adam', metrics=['accuracy'])\n",
        "\n",
        "    return my_model\n"
      ],
      "metadata": {
        "id": "UEz1Ol7kpQr-"
      },
      "execution_count": null,
      "outputs": []
    },
    {
      "cell_type": "code",
      "source": [
        "vggmodel = get_model()"
      ],
      "metadata": {
        "id": "_PoMsgdMtFn6"
      },
      "execution_count": null,
      "outputs": []
    },
    {
      "cell_type": "code",
      "source": [
        "\n",
        "\n",
        "filepath = \"weights-{epoch:02d}-{val_accuracy:.2f}.hdf5\"\n",
        "checkpoint = ModelCheckpoint(filepath, monitor='val_accuracy', verbose=1,save_best_only=True, mode='max')\n",
        "callbacks_list = [checkpoint]\n",
        "\n",
        "#xay dung dao tao hinh anh de tang cuong du lieu\n",
        "aug = ImageDataGenerator(rotation_range=20, zoom_range=0.1,\n",
        "                         rescale=1./255,\n",
        "                         width_shift_range=0.1,\n",
        "                         height_shift_range=0.1,\n",
        "                         horizontal_flip=True,\n",
        "                         brightness_range=[0.2,1.5], fill_mode=\"nearest\")\n",
        "\n",
        "aug_val=ImageDataGenerator(rescale=1./255)\n",
        "vggmodel.fit_generator(aug.flow(X_train, y_train, batch_size= 64),\n",
        "                                         epochs= 50,\n",
        "                                         validation_data = aug.flow(X_test, y_test,\n",
        "                                                                    batch_size=64),\n",
        "                                callbacks=callbacks_list)\n"
      ],
      "metadata": {
        "id": "XI6G-p4EpTXd",
        "colab": {
          "base_uri": "https://localhost:8080/"
        },
        "outputId": "5661f720-1bb2-48e4-9202-d1f466b5f059"
      },
      "execution_count": null,
      "outputs": [
        {
          "output_type": "stream",
          "name": "stdout",
          "text": [
            "188/188 [==============================] - ETA: 0s - loss: 0.1570 - accuracy: 0.9457\n",
            "Epoch 50: val_accuracy did not improve from 0.95900\n",
            "188/188 [==============================] - 65s 348ms/step - loss: 0.1570 - accuracy: 0.9457 - val_loss: 0.1314 - val_accuracy: 0.9537\n"
          ]
        },
        {
          "output_type": "execute_result",
          "data": {
            "text/plain": [
              "<keras.callbacks.History at 0x7f034ea28250>"
            ]
          },
          "metadata": {},
          "execution_count": 25
        }
      ]
    },
    {
      "cell_type": "code",
      "source": [
        "\n",
        "vggmodel.save(\"vggmodel.h5\")"
      ],
      "metadata": {
        "id": "T-cvQKQzhC79"
      },
      "execution_count": null,
      "outputs": []
    },
    {
      "cell_type": "code",
      "source": [
        "vggmodel.save(\"vggmodel.h5\")"
      ],
      "metadata": {
        "id": "NlfqTJSnhfDE"
      },
      "execution_count": null,
      "outputs": []
    },
    {
      "cell_type": "code",
      "source": [
        "from os import listdir\n",
        "import cv2\n",
        "import numpy as np\n",
        "import pickle\n",
        "from sklearn.preprocessing import OneHotEncoder\n",
        "from sklearn.model_selection import train_test_split\n",
        "from keras.applications.vgg16 import VGG16\n",
        "from keras.layers import Input, Flatten, Dense, Dropout\n",
        "from keras.models import Model\n",
        "from keras.callbacks import ModelCheckpoint\n",
        "import matplotlib.pyplot as plt\n",
        "import random\n",
        "from keras.models import  load_model\n",
        "import sys\n"
      ],
      "metadata": {
        "id": "E0SUSU9zjhhy"
      },
      "execution_count": null,
      "outputs": []
    },
    {
      "cell_type": "code",
      "source": [
        "my_model = get_model()\n",
        "my_model.load_weights(\"/content/weights-41-0.96.hdf5\")\n"
      ],
      "metadata": {
        "id": "3NepuTHLBaQ4"
      },
      "execution_count": null,
      "outputs": []
    },
    {
      "cell_type": "code",
      "source": [
        "image_org = cv2.imread('/content/Shoe vs Sandal vs Boot Dataset/Shoe/Shoe (1).jpg')\n",
        "\n",
        "image_org = cv2.resize(image_org, dsize=None,fx=0.5,fy=0.5)\n",
        "# Resize\n",
        "image = image_org.copy()\n",
        "image = cv2.resize(image, dsize=(128, 128))\n",
        "image = image.astype('float')*1./255\n",
        "# Convert to tensor\n",
        "image = np.expand_dims(image, axis=0)\n",
        "class_name = ['boot', 'sandal', 'shoe']\n",
        "# Predict\n",
        "predict = my_model.predict(image)\n",
        "# print(\"This picture is: \", class_name[np.argmax(predict[0])])\n",
        "print(np.max(predict[0]))\n",
        "if (np.max(predict)>=0.8) :\n",
        "# Show image\n",
        "    \n",
        "    print(class_name[np.argmax(predict[0])])\n",
        "\n",
        "    "
      ],
      "metadata": {
        "colab": {
          "base_uri": "https://localhost:8080/"
        },
        "id": "g3jCEXFqB9G_",
        "outputId": "d9772f84-ed6a-4d2e-c84f-9af1754d98c5"
      },
      "execution_count": null,
      "outputs": [
        {
          "output_type": "stream",
          "name": "stdout",
          "text": [
            "1/1 [==============================] - 0s 77ms/step\n",
            "0.98796785\n",
            "shoe\n"
          ]
        }
      ]
    }
  ]
}
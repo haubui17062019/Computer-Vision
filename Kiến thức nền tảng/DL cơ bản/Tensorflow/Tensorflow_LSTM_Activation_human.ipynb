{
  "nbformat": 4,
  "nbformat_minor": 0,
  "metadata": {
    "colab": {
      "provenance": []
    },
    "kernelspec": {
      "name": "python3",
      "display_name": "Python 3"
    },
    "language_info": {
      "name": "python"
    },
    "gpuClass": "standard"
  },
  "cells": [
    {
      "cell_type": "markdown",
      "source": [
        "### Giới thiệu\n",
        "- Sử dụng mediapipe để lấy các điểm trên cơ thể để nhận diện hành động"
      ],
      "metadata": {
        "id": "HtkWXfGy8puP"
      }
    },
    {
      "cell_type": "code",
      "execution_count": null,
      "metadata": {
        "id": "YP9suF_727P2"
      },
      "outputs": [],
      "source": [
        "import numpy as np\n",
        "import pandas as pd\n",
        "import keras\n",
        "from keras.layers import LSTM, Dense, Dropout, Flatten\n",
        "from keras.models import Sequential\n",
        "\n",
        "from sklearn.model_selection import train_test_split"
      ]
    },
    {
      "cell_type": "code",
      "source": [
        "bodyswing_df = pd.read_csv(\"/content/drive/MyDrive/LSTM/BodySwing.txt\")\n",
        "handswing_df = pd.read_csv(\"/content/drive/MyDrive/LSTM/HandSwing.txt\")\n",
        "sit_df = pd.read_csv(\"/content/drive/MyDrive/LSTM/Sit.txt\")"
      ],
      "metadata": {
        "id": "0nf2t4KD3Ij-"
      },
      "execution_count": null,
      "outputs": []
    },
    {
      "cell_type": "code",
      "source": [
        "X = []\n",
        "y = []\n",
        "no_of_timesteps = 10\n",
        "\n",
        "dateset = bodyswing_df.iloc[:, 1:].values\n",
        "n_sample = len(dateset)\n",
        "for i in range(no_of_timesteps, n_sample):\n",
        "    X.append(dateset[i-no_of_timesteps:i, :])\n",
        "    y.append(0)\n",
        "\n",
        "dateset = handswing_df.iloc[:, 1:].values\n",
        "n_sample = len(dateset)\n",
        "for i in range(no_of_timesteps, n_sample):\n",
        "    X.append(dateset[i-no_of_timesteps:i, :])\n",
        "    y.append(1)\n",
        "  \n",
        "dateset = sit_df.iloc[:, 1:].values\n",
        "n_sample = len(dateset)\n",
        "for i in range(no_of_timesteps, n_sample):\n",
        "    X.append(dateset[i-no_of_timesteps:i, :])\n",
        "    y.append(2)"
      ],
      "metadata": {
        "id": "rulqlEuM3SBe"
      },
      "execution_count": null,
      "outputs": []
    },
    {
      "cell_type": "code",
      "source": [
        "X[0]"
      ],
      "metadata": {
        "colab": {
          "base_uri": "https://localhost:8080/"
        },
        "id": "RR0ZV_q8CxdT",
        "outputId": "cf86a861-c893-4aca-a165-2551ad7ed69b"
      },
      "execution_count": null,
      "outputs": [
        {
          "output_type": "execute_result",
          "data": {
            "text/plain": [
              "array([[ 6.21376812e-01,  6.72498047e-01, -1.25376606e+00, ...,\n",
              "         2.73322678e+00, -5.63408554e-01,  2.79548665e-04],\n",
              "       [ 6.03450775e-01,  6.71223998e-01, -1.13798451e+00, ...,\n",
              "         2.71726370e+00, -4.71413076e-01,  2.65539362e-04],\n",
              "       [ 5.91825485e-01,  6.71208918e-01, -1.13324475e+00, ...,\n",
              "         2.70469618e+00, -4.40093756e-01,  2.54157465e-04],\n",
              "       ...,\n",
              "       [ 5.41599751e-01,  6.74836516e-01, -1.06421494e+00, ...,\n",
              "         2.68527341e+00, -3.88384432e-01,  2.09120219e-04],\n",
              "       [ 5.38184881e-01,  6.75068915e-01, -1.07786560e+00, ...,\n",
              "         2.67647243e+00, -4.81758177e-01,  2.02324896e-04],\n",
              "       [ 5.27404070e-01,  6.77456260e-01, -1.07713532e+00, ...,\n",
              "         2.67746496e+00, -4.98745501e-01,  2.00102382e-04]])"
            ]
          },
          "metadata": {},
          "execution_count": 4
        }
      ]
    },
    {
      "cell_type": "code",
      "source": [
        "\n",
        "X, y = np.array(X), np.array(y)\n",
        "# print(X.shape, y.shape)\n",
        "\n",
        "X_train, X_test, y_train, y_test = train_test_split(X, y, test_size=0.2)\n"
      ],
      "metadata": {
        "id": "wnpcS9N-3YmE"
      },
      "execution_count": null,
      "outputs": []
    },
    {
      "cell_type": "code",
      "source": [
        "from sklearn.preprocessing import LabelBinarizer\n",
        "encoder = LabelBinarizer()\n",
        "y_train = encoder.fit_transform(y_train)\n",
        "y_test = encoder.fit_transform(y_test)"
      ],
      "metadata": {
        "id": "tvCvk1veITDH"
      },
      "execution_count": null,
      "outputs": []
    },
    {
      "cell_type": "code",
      "source": [
        "\n",
        "print(y_train[0:10])"
      ],
      "metadata": {
        "id": "GSFy5t96Hgr9",
        "colab": {
          "base_uri": "https://localhost:8080/"
        },
        "outputId": "352b180b-6072-4adb-9d42-df5ae6223409"
      },
      "execution_count": null,
      "outputs": [
        {
          "output_type": "stream",
          "name": "stdout",
          "text": [
            "[[0 0 1]\n",
            " [1 0 0]\n",
            " [0 1 0]\n",
            " [0 0 1]\n",
            " [0 1 0]\n",
            " [0 1 0]\n",
            " [0 0 1]\n",
            " [0 1 0]\n",
            " [1 0 0]\n",
            " [1 0 0]]\n"
          ]
        }
      ]
    },
    {
      "cell_type": "code",
      "source": [
        "print(X_train.shape, y_train.shape)\n",
        "print(X_test.shape, y_test.shape)"
      ],
      "metadata": {
        "colab": {
          "base_uri": "https://localhost:8080/"
        },
        "id": "kkJ6HYWz8oym",
        "outputId": "12206fcf-4697-461e-f070-99b0052e17ef"
      },
      "execution_count": null,
      "outputs": [
        {
          "output_type": "stream",
          "name": "stdout",
          "text": [
            "(1418, 10, 132) (1418, 3)\n",
            "(355, 10, 132) (355, 3)\n"
          ]
        }
      ]
    },
    {
      "cell_type": "code",
      "source": [
        "input=(X.shape[1], X.shape[2])\n",
        "input"
      ],
      "metadata": {
        "id": "jMfKe0eg-bsF",
        "colab": {
          "base_uri": "https://localhost:8080/"
        },
        "outputId": "a8c3fe3a-d4b6-4fa6-a50a-bb36ebcc610f"
      },
      "execution_count": null,
      "outputs": [
        {
          "output_type": "execute_result",
          "data": {
            "text/plain": [
              "(10, 132)"
            ]
          },
          "metadata": {},
          "execution_count": 7
        }
      ]
    },
    {
      "cell_type": "code",
      "source": [
        "model = Sequential()\n",
        "model.add(LSTM(units=50, return_sequences=True, input_shape=(X.shape[1], X.shape[2])))\n",
        "model.add(Dropout(0.2))\n",
        "model.add(LSTM(units=50, return_sequences=True))\n",
        "model.add(Dropout(0.2))\n",
        "model.add(LSTM(units=50, return_sequences=True))\n",
        "model.add(Dropout(0.2))\n",
        "model.add(LSTM(units=50))\n",
        "model.add(Dropout(0.2))\n",
        "model.add(Dense(50, activation='relu'))\n",
        "model.add(Dense(10, activation='relu'))\n",
        "model.add(Dense(units=3, activation='softmax'))\n",
        "model.compile(optimizer=\"Adam\", metrics=['accuracy'], loss='categorical_crossentropy')\n"
      ],
      "metadata": {
        "id": "TyF1XMdH3amj"
      },
      "execution_count": null,
      "outputs": []
    },
    {
      "cell_type": "code",
      "source": [
        "model.fit(X_train, y_train, epochs=16, batch_size=32, validation_data=(X_test, y_test))\n",
        "model.save(\"model.h5\")\n"
      ],
      "metadata": {
        "colab": {
          "base_uri": "https://localhost:8080/"
        },
        "id": "4mMl1DSQ3c0r",
        "outputId": "69d1f543-88f8-4352-cb4a-8e9a31ce0489"
      },
      "execution_count": null,
      "outputs": [
        {
          "output_type": "stream",
          "name": "stdout",
          "text": [
            "Epoch 1/16\n",
            "45/45 [==============================] - 15s 42ms/step - loss: 0.8575 - accuracy: 0.5402 - val_loss: 0.5822 - val_accuracy: 0.6873\n",
            "Epoch 2/16\n",
            "45/45 [==============================] - 1s 12ms/step - loss: 0.4737 - accuracy: 0.7687 - val_loss: 0.2957 - val_accuracy: 0.8930\n",
            "Epoch 3/16\n",
            "45/45 [==============================] - 1s 12ms/step - loss: 0.2212 - accuracy: 0.9323 - val_loss: 0.1631 - val_accuracy: 0.9408\n",
            "Epoch 4/16\n",
            "45/45 [==============================] - 1s 12ms/step - loss: 0.1482 - accuracy: 0.9513 - val_loss: 0.1705 - val_accuracy: 0.9408\n",
            "Epoch 5/16\n",
            "45/45 [==============================] - 1s 14ms/step - loss: 0.1687 - accuracy: 0.9464 - val_loss: 0.1002 - val_accuracy: 0.9775\n",
            "Epoch 6/16\n",
            "45/45 [==============================] - 1s 17ms/step - loss: 0.1166 - accuracy: 0.9612 - val_loss: 0.1021 - val_accuracy: 0.9606\n",
            "Epoch 7/16\n",
            "45/45 [==============================] - 1s 17ms/step - loss: 0.1034 - accuracy: 0.9647 - val_loss: 0.1224 - val_accuracy: 0.9577\n",
            "Epoch 8/16\n",
            "45/45 [==============================] - 1s 16ms/step - loss: 0.0943 - accuracy: 0.9725 - val_loss: 0.0714 - val_accuracy: 0.9775\n",
            "Epoch 9/16\n",
            "45/45 [==============================] - 1s 15ms/step - loss: 0.1198 - accuracy: 0.9633 - val_loss: 0.0985 - val_accuracy: 0.9690\n",
            "Epoch 10/16\n",
            "45/45 [==============================] - 1s 13ms/step - loss: 0.0804 - accuracy: 0.9760 - val_loss: 0.0910 - val_accuracy: 0.9718\n",
            "Epoch 11/16\n",
            "45/45 [==============================] - 1s 12ms/step - loss: 0.0986 - accuracy: 0.9697 - val_loss: 0.0698 - val_accuracy: 0.9831\n",
            "Epoch 12/16\n",
            "45/45 [==============================] - 1s 12ms/step - loss: 0.0811 - accuracy: 0.9767 - val_loss: 0.0794 - val_accuracy: 0.9831\n",
            "Epoch 13/16\n",
            "45/45 [==============================] - 1s 12ms/step - loss: 0.0528 - accuracy: 0.9838 - val_loss: 0.2630 - val_accuracy: 0.9296\n",
            "Epoch 14/16\n",
            "45/45 [==============================] - 1s 12ms/step - loss: 0.0769 - accuracy: 0.9767 - val_loss: 0.0461 - val_accuracy: 0.9859\n",
            "Epoch 15/16\n",
            "45/45 [==============================] - 1s 12ms/step - loss: 0.0518 - accuracy: 0.9866 - val_loss: 0.0412 - val_accuracy: 0.9887\n",
            "Epoch 16/16\n",
            "45/45 [==============================] - 1s 11ms/step - loss: 0.0450 - accuracy: 0.9873 - val_loss: 0.1362 - val_accuracy: 0.9634\n"
          ]
        }
      ]
    },
    {
      "cell_type": "code",
      "source": [
        "score = model.evaluate(X_test, y_test, verbose = 0)\n",
        "print(score)"
      ],
      "metadata": {
        "colab": {
          "base_uri": "https://localhost:8080/"
        },
        "id": "qg0Ti-Hl-_A1",
        "outputId": "4d1650a2-329a-4b2f-b7fe-02bab905c609"
      },
      "execution_count": null,
      "outputs": [
        {
          "output_type": "stream",
          "name": "stdout",
          "text": [
            "[0.13620354235172272, 0.9633802771568298]\n"
          ]
        }
      ]
    }
  ]
}
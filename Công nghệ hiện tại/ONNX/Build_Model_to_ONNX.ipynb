{
  "nbformat": 4,
  "nbformat_minor": 0,
  "metadata": {
    "colab": {
      "provenance": [],
      "gpuType": "T4"
    },
    "kernelspec": {
      "name": "python3",
      "display_name": "Python 3"
    },
    "language_info": {
      "name": "python"
    },
    "accelerator": "GPU",
    "gpuClass": "standard",
    "widgets": {
      "application/vnd.jupyter.widget-state+json": {
        "e0a01c2acd014720bba1cf1579c688cc": {
          "model_module": "@jupyter-widgets/controls",
          "model_name": "HBoxModel",
          "model_module_version": "1.5.0",
          "state": {
            "_dom_classes": [],
            "_model_module": "@jupyter-widgets/controls",
            "_model_module_version": "1.5.0",
            "_model_name": "HBoxModel",
            "_view_count": null,
            "_view_module": "@jupyter-widgets/controls",
            "_view_module_version": "1.5.0",
            "_view_name": "HBoxView",
            "box_style": "",
            "children": [
              "IPY_MODEL_ec5db50518f94893b13b3b1504f86567",
              "IPY_MODEL_623e55e0de6d45c5923516f86f6c8cda",
              "IPY_MODEL_5b48b3d768e542938f6e78456f05acd5"
            ],
            "layout": "IPY_MODEL_4616a2ffbad644a78e17d4e0f61e4e47"
          }
        },
        "ec5db50518f94893b13b3b1504f86567": {
          "model_module": "@jupyter-widgets/controls",
          "model_name": "HTMLModel",
          "model_module_version": "1.5.0",
          "state": {
            "_dom_classes": [],
            "_model_module": "@jupyter-widgets/controls",
            "_model_module_version": "1.5.0",
            "_model_name": "HTMLModel",
            "_view_count": null,
            "_view_module": "@jupyter-widgets/controls",
            "_view_module_version": "1.5.0",
            "_view_name": "HTMLView",
            "description": "",
            "description_tooltip": null,
            "layout": "IPY_MODEL_4b2cf0eb9ab742f7a93177e8a7ea2344",
            "placeholder": "​",
            "style": "IPY_MODEL_437e6061a19b41929ef4ee86e86b4a42",
            "value": "100%"
          }
        },
        "623e55e0de6d45c5923516f86f6c8cda": {
          "model_module": "@jupyter-widgets/controls",
          "model_name": "FloatProgressModel",
          "model_module_version": "1.5.0",
          "state": {
            "_dom_classes": [],
            "_model_module": "@jupyter-widgets/controls",
            "_model_module_version": "1.5.0",
            "_model_name": "FloatProgressModel",
            "_view_count": null,
            "_view_module": "@jupyter-widgets/controls",
            "_view_module_version": "1.5.0",
            "_view_name": "ProgressView",
            "bar_style": "success",
            "description": "",
            "description_tooltip": null,
            "layout": "IPY_MODEL_b5505f44562d4e0090e20de2b568224d",
            "max": 5,
            "min": 0,
            "orientation": "horizontal",
            "style": "IPY_MODEL_2f4f908137534fc98bcd5b983b9b7ef7",
            "value": 5
          }
        },
        "5b48b3d768e542938f6e78456f05acd5": {
          "model_module": "@jupyter-widgets/controls",
          "model_name": "HTMLModel",
          "model_module_version": "1.5.0",
          "state": {
            "_dom_classes": [],
            "_model_module": "@jupyter-widgets/controls",
            "_model_module_version": "1.5.0",
            "_model_name": "HTMLModel",
            "_view_count": null,
            "_view_module": "@jupyter-widgets/controls",
            "_view_module_version": "1.5.0",
            "_view_name": "HTMLView",
            "description": "",
            "description_tooltip": null,
            "layout": "IPY_MODEL_785e15c1242e47a2adff9a18ebd93f82",
            "placeholder": "​",
            "style": "IPY_MODEL_73ca703e6a874172a7e3ff35122f51dd",
            "value": " 5/5 [02:45&lt;00:00, 32.22s/it]"
          }
        },
        "4616a2ffbad644a78e17d4e0f61e4e47": {
          "model_module": "@jupyter-widgets/base",
          "model_name": "LayoutModel",
          "model_module_version": "1.2.0",
          "state": {
            "_model_module": "@jupyter-widgets/base",
            "_model_module_version": "1.2.0",
            "_model_name": "LayoutModel",
            "_view_count": null,
            "_view_module": "@jupyter-widgets/base",
            "_view_module_version": "1.2.0",
            "_view_name": "LayoutView",
            "align_content": null,
            "align_items": null,
            "align_self": null,
            "border": null,
            "bottom": null,
            "display": null,
            "flex": null,
            "flex_flow": null,
            "grid_area": null,
            "grid_auto_columns": null,
            "grid_auto_flow": null,
            "grid_auto_rows": null,
            "grid_column": null,
            "grid_gap": null,
            "grid_row": null,
            "grid_template_areas": null,
            "grid_template_columns": null,
            "grid_template_rows": null,
            "height": null,
            "justify_content": null,
            "justify_items": null,
            "left": null,
            "margin": null,
            "max_height": null,
            "max_width": null,
            "min_height": null,
            "min_width": null,
            "object_fit": null,
            "object_position": null,
            "order": null,
            "overflow": null,
            "overflow_x": null,
            "overflow_y": null,
            "padding": null,
            "right": null,
            "top": null,
            "visibility": null,
            "width": null
          }
        },
        "4b2cf0eb9ab742f7a93177e8a7ea2344": {
          "model_module": "@jupyter-widgets/base",
          "model_name": "LayoutModel",
          "model_module_version": "1.2.0",
          "state": {
            "_model_module": "@jupyter-widgets/base",
            "_model_module_version": "1.2.0",
            "_model_name": "LayoutModel",
            "_view_count": null,
            "_view_module": "@jupyter-widgets/base",
            "_view_module_version": "1.2.0",
            "_view_name": "LayoutView",
            "align_content": null,
            "align_items": null,
            "align_self": null,
            "border": null,
            "bottom": null,
            "display": null,
            "flex": null,
            "flex_flow": null,
            "grid_area": null,
            "grid_auto_columns": null,
            "grid_auto_flow": null,
            "grid_auto_rows": null,
            "grid_column": null,
            "grid_gap": null,
            "grid_row": null,
            "grid_template_areas": null,
            "grid_template_columns": null,
            "grid_template_rows": null,
            "height": null,
            "justify_content": null,
            "justify_items": null,
            "left": null,
            "margin": null,
            "max_height": null,
            "max_width": null,
            "min_height": null,
            "min_width": null,
            "object_fit": null,
            "object_position": null,
            "order": null,
            "overflow": null,
            "overflow_x": null,
            "overflow_y": null,
            "padding": null,
            "right": null,
            "top": null,
            "visibility": null,
            "width": null
          }
        },
        "437e6061a19b41929ef4ee86e86b4a42": {
          "model_module": "@jupyter-widgets/controls",
          "model_name": "DescriptionStyleModel",
          "model_module_version": "1.5.0",
          "state": {
            "_model_module": "@jupyter-widgets/controls",
            "_model_module_version": "1.5.0",
            "_model_name": "DescriptionStyleModel",
            "_view_count": null,
            "_view_module": "@jupyter-widgets/base",
            "_view_module_version": "1.2.0",
            "_view_name": "StyleView",
            "description_width": ""
          }
        },
        "b5505f44562d4e0090e20de2b568224d": {
          "model_module": "@jupyter-widgets/base",
          "model_name": "LayoutModel",
          "model_module_version": "1.2.0",
          "state": {
            "_model_module": "@jupyter-widgets/base",
            "_model_module_version": "1.2.0",
            "_model_name": "LayoutModel",
            "_view_count": null,
            "_view_module": "@jupyter-widgets/base",
            "_view_module_version": "1.2.0",
            "_view_name": "LayoutView",
            "align_content": null,
            "align_items": null,
            "align_self": null,
            "border": null,
            "bottom": null,
            "display": null,
            "flex": null,
            "flex_flow": null,
            "grid_area": null,
            "grid_auto_columns": null,
            "grid_auto_flow": null,
            "grid_auto_rows": null,
            "grid_column": null,
            "grid_gap": null,
            "grid_row": null,
            "grid_template_areas": null,
            "grid_template_columns": null,
            "grid_template_rows": null,
            "height": null,
            "justify_content": null,
            "justify_items": null,
            "left": null,
            "margin": null,
            "max_height": null,
            "max_width": null,
            "min_height": null,
            "min_width": null,
            "object_fit": null,
            "object_position": null,
            "order": null,
            "overflow": null,
            "overflow_x": null,
            "overflow_y": null,
            "padding": null,
            "right": null,
            "top": null,
            "visibility": null,
            "width": null
          }
        },
        "2f4f908137534fc98bcd5b983b9b7ef7": {
          "model_module": "@jupyter-widgets/controls",
          "model_name": "ProgressStyleModel",
          "model_module_version": "1.5.0",
          "state": {
            "_model_module": "@jupyter-widgets/controls",
            "_model_module_version": "1.5.0",
            "_model_name": "ProgressStyleModel",
            "_view_count": null,
            "_view_module": "@jupyter-widgets/base",
            "_view_module_version": "1.2.0",
            "_view_name": "StyleView",
            "bar_color": null,
            "description_width": ""
          }
        },
        "785e15c1242e47a2adff9a18ebd93f82": {
          "model_module": "@jupyter-widgets/base",
          "model_name": "LayoutModel",
          "model_module_version": "1.2.0",
          "state": {
            "_model_module": "@jupyter-widgets/base",
            "_model_module_version": "1.2.0",
            "_model_name": "LayoutModel",
            "_view_count": null,
            "_view_module": "@jupyter-widgets/base",
            "_view_module_version": "1.2.0",
            "_view_name": "LayoutView",
            "align_content": null,
            "align_items": null,
            "align_self": null,
            "border": null,
            "bottom": null,
            "display": null,
            "flex": null,
            "flex_flow": null,
            "grid_area": null,
            "grid_auto_columns": null,
            "grid_auto_flow": null,
            "grid_auto_rows": null,
            "grid_column": null,
            "grid_gap": null,
            "grid_row": null,
            "grid_template_areas": null,
            "grid_template_columns": null,
            "grid_template_rows": null,
            "height": null,
            "justify_content": null,
            "justify_items": null,
            "left": null,
            "margin": null,
            "max_height": null,
            "max_width": null,
            "min_height": null,
            "min_width": null,
            "object_fit": null,
            "object_position": null,
            "order": null,
            "overflow": null,
            "overflow_x": null,
            "overflow_y": null,
            "padding": null,
            "right": null,
            "top": null,
            "visibility": null,
            "width": null
          }
        },
        "73ca703e6a874172a7e3ff35122f51dd": {
          "model_module": "@jupyter-widgets/controls",
          "model_name": "DescriptionStyleModel",
          "model_module_version": "1.5.0",
          "state": {
            "_model_module": "@jupyter-widgets/controls",
            "_model_module_version": "1.5.0",
            "_model_name": "DescriptionStyleModel",
            "_view_count": null,
            "_view_module": "@jupyter-widgets/base",
            "_view_module_version": "1.2.0",
            "_view_name": "StyleView",
            "description_width": ""
          }
        }
      }
    }
  },
  "cells": [
    {
      "cell_type": "code",
      "execution_count": 1,
      "metadata": {
        "id": "wg3VSxXWjyAk",
        "colab": {
          "base_uri": "https://localhost:8080/",
          "height": 73
        },
        "outputId": "7e76dc45-0a8b-4b73-8eb1-c46e8db3cbf4"
      },
      "outputs": [
        {
          "output_type": "display_data",
          "data": {
            "text/plain": [
              "<IPython.core.display.HTML object>"
            ],
            "text/html": [
              "\n",
              "     <input type=\"file\" id=\"files-d1558cee-618d-4780-a4aa-1b53e8317d3b\" name=\"files[]\" multiple disabled\n",
              "        style=\"border:none\" />\n",
              "     <output id=\"result-d1558cee-618d-4780-a4aa-1b53e8317d3b\">\n",
              "      Upload widget is only available when the cell has been executed in the\n",
              "      current browser session. Please rerun this cell to enable.\n",
              "      </output>\n",
              "      <script>// Copyright 2017 Google LLC\n",
              "//\n",
              "// Licensed under the Apache License, Version 2.0 (the \"License\");\n",
              "// you may not use this file except in compliance with the License.\n",
              "// You may obtain a copy of the License at\n",
              "//\n",
              "//      http://www.apache.org/licenses/LICENSE-2.0\n",
              "//\n",
              "// Unless required by applicable law or agreed to in writing, software\n",
              "// distributed under the License is distributed on an \"AS IS\" BASIS,\n",
              "// WITHOUT WARRANTIES OR CONDITIONS OF ANY KIND, either express or implied.\n",
              "// See the License for the specific language governing permissions and\n",
              "// limitations under the License.\n",
              "\n",
              "/**\n",
              " * @fileoverview Helpers for google.colab Python module.\n",
              " */\n",
              "(function(scope) {\n",
              "function span(text, styleAttributes = {}) {\n",
              "  const element = document.createElement('span');\n",
              "  element.textContent = text;\n",
              "  for (const key of Object.keys(styleAttributes)) {\n",
              "    element.style[key] = styleAttributes[key];\n",
              "  }\n",
              "  return element;\n",
              "}\n",
              "\n",
              "// Max number of bytes which will be uploaded at a time.\n",
              "const MAX_PAYLOAD_SIZE = 100 * 1024;\n",
              "\n",
              "function _uploadFiles(inputId, outputId) {\n",
              "  const steps = uploadFilesStep(inputId, outputId);\n",
              "  const outputElement = document.getElementById(outputId);\n",
              "  // Cache steps on the outputElement to make it available for the next call\n",
              "  // to uploadFilesContinue from Python.\n",
              "  outputElement.steps = steps;\n",
              "\n",
              "  return _uploadFilesContinue(outputId);\n",
              "}\n",
              "\n",
              "// This is roughly an async generator (not supported in the browser yet),\n",
              "// where there are multiple asynchronous steps and the Python side is going\n",
              "// to poll for completion of each step.\n",
              "// This uses a Promise to block the python side on completion of each step,\n",
              "// then passes the result of the previous step as the input to the next step.\n",
              "function _uploadFilesContinue(outputId) {\n",
              "  const outputElement = document.getElementById(outputId);\n",
              "  const steps = outputElement.steps;\n",
              "\n",
              "  const next = steps.next(outputElement.lastPromiseValue);\n",
              "  return Promise.resolve(next.value.promise).then((value) => {\n",
              "    // Cache the last promise value to make it available to the next\n",
              "    // step of the generator.\n",
              "    outputElement.lastPromiseValue = value;\n",
              "    return next.value.response;\n",
              "  });\n",
              "}\n",
              "\n",
              "/**\n",
              " * Generator function which is called between each async step of the upload\n",
              " * process.\n",
              " * @param {string} inputId Element ID of the input file picker element.\n",
              " * @param {string} outputId Element ID of the output display.\n",
              " * @return {!Iterable<!Object>} Iterable of next steps.\n",
              " */\n",
              "function* uploadFilesStep(inputId, outputId) {\n",
              "  const inputElement = document.getElementById(inputId);\n",
              "  inputElement.disabled = false;\n",
              "\n",
              "  const outputElement = document.getElementById(outputId);\n",
              "  outputElement.innerHTML = '';\n",
              "\n",
              "  const pickedPromise = new Promise((resolve) => {\n",
              "    inputElement.addEventListener('change', (e) => {\n",
              "      resolve(e.target.files);\n",
              "    });\n",
              "  });\n",
              "\n",
              "  const cancel = document.createElement('button');\n",
              "  inputElement.parentElement.appendChild(cancel);\n",
              "  cancel.textContent = 'Cancel upload';\n",
              "  const cancelPromise = new Promise((resolve) => {\n",
              "    cancel.onclick = () => {\n",
              "      resolve(null);\n",
              "    };\n",
              "  });\n",
              "\n",
              "  // Wait for the user to pick the files.\n",
              "  const files = yield {\n",
              "    promise: Promise.race([pickedPromise, cancelPromise]),\n",
              "    response: {\n",
              "      action: 'starting',\n",
              "    }\n",
              "  };\n",
              "\n",
              "  cancel.remove();\n",
              "\n",
              "  // Disable the input element since further picks are not allowed.\n",
              "  inputElement.disabled = true;\n",
              "\n",
              "  if (!files) {\n",
              "    return {\n",
              "      response: {\n",
              "        action: 'complete',\n",
              "      }\n",
              "    };\n",
              "  }\n",
              "\n",
              "  for (const file of files) {\n",
              "    const li = document.createElement('li');\n",
              "    li.append(span(file.name, {fontWeight: 'bold'}));\n",
              "    li.append(span(\n",
              "        `(${file.type || 'n/a'}) - ${file.size} bytes, ` +\n",
              "        `last modified: ${\n",
              "            file.lastModifiedDate ? file.lastModifiedDate.toLocaleDateString() :\n",
              "                                    'n/a'} - `));\n",
              "    const percent = span('0% done');\n",
              "    li.appendChild(percent);\n",
              "\n",
              "    outputElement.appendChild(li);\n",
              "\n",
              "    const fileDataPromise = new Promise((resolve) => {\n",
              "      const reader = new FileReader();\n",
              "      reader.onload = (e) => {\n",
              "        resolve(e.target.result);\n",
              "      };\n",
              "      reader.readAsArrayBuffer(file);\n",
              "    });\n",
              "    // Wait for the data to be ready.\n",
              "    let fileData = yield {\n",
              "      promise: fileDataPromise,\n",
              "      response: {\n",
              "        action: 'continue',\n",
              "      }\n",
              "    };\n",
              "\n",
              "    // Use a chunked sending to avoid message size limits. See b/62115660.\n",
              "    let position = 0;\n",
              "    do {\n",
              "      const length = Math.min(fileData.byteLength - position, MAX_PAYLOAD_SIZE);\n",
              "      const chunk = new Uint8Array(fileData, position, length);\n",
              "      position += length;\n",
              "\n",
              "      const base64 = btoa(String.fromCharCode.apply(null, chunk));\n",
              "      yield {\n",
              "        response: {\n",
              "          action: 'append',\n",
              "          file: file.name,\n",
              "          data: base64,\n",
              "        },\n",
              "      };\n",
              "\n",
              "      let percentDone = fileData.byteLength === 0 ?\n",
              "          100 :\n",
              "          Math.round((position / fileData.byteLength) * 100);\n",
              "      percent.textContent = `${percentDone}% done`;\n",
              "\n",
              "    } while (position < fileData.byteLength);\n",
              "  }\n",
              "\n",
              "  // All done.\n",
              "  yield {\n",
              "    response: {\n",
              "      action: 'complete',\n",
              "    }\n",
              "  };\n",
              "}\n",
              "\n",
              "scope.google = scope.google || {};\n",
              "scope.google.colab = scope.google.colab || {};\n",
              "scope.google.colab._files = {\n",
              "  _uploadFiles,\n",
              "  _uploadFilesContinue,\n",
              "};\n",
              "})(self);\n",
              "</script> "
            ]
          },
          "metadata": {}
        },
        {
          "output_type": "stream",
          "name": "stdout",
          "text": [
            "Saving kaggle.json to kaggle.json\n"
          ]
        }
      ],
      "source": [
        "!pip install -q kaggle\n",
        "\n",
        "from google.colab import files\n",
        "files.upload()\n",
        "# Chọn file kaggle.json tải về ở bước 2 để tải lên\n",
        "\n",
        "!mkdir '/root/.kaggle'\n",
        "!cp kaggle.json '/root/.kaggle'\n",
        "!chmod 600 /root/.kaggle/kaggle.json"
      ]
    },
    {
      "cell_type": "code",
      "source": [
        "!kaggle datasets download -d hasibalmuzdadid/shoe-vs-sandal-vs-boot-dataset-15k-images"
      ],
      "metadata": {
        "colab": {
          "base_uri": "https://localhost:8080/"
        },
        "id": "bhEZuY40nmY4",
        "outputId": "b77cc38d-f2d9-4ae0-f18f-6ddc23ce2e38"
      },
      "execution_count": 2,
      "outputs": [
        {
          "output_type": "stream",
          "name": "stdout",
          "text": [
            "Downloading shoe-vs-sandal-vs-boot-dataset-15k-images.zip to /content\n",
            " 96% 45.0M/47.0M [00:03<00:00, 23.0MB/s]\n",
            "100% 47.0M/47.0M [00:03<00:00, 15.8MB/s]\n"
          ]
        }
      ]
    },
    {
      "cell_type": "code",
      "source": [
        "!unzip -q /content/shoe-vs-sandal-vs-boot-dataset-15k-images.zip"
      ],
      "metadata": {
        "id": "yqPw-Nk5nm_4"
      },
      "execution_count": 3,
      "outputs": []
    },
    {
      "cell_type": "code",
      "source": [
        "import os\n",
        "\n",
        "path_data = '/content/Shoe vs Sandal vs Boot Dataset'\n",
        "\n",
        "os.mkdir('dataset')\n",
        "\n",
        "os.chdir('./dataset')\n",
        "os.mkdir('train')\n",
        "os.mkdir('test')\n",
        "\n",
        "path_train = '/content/dataset/train'\n",
        "path_test = '/content/dataset/test'\n",
        "\n",
        "folders = os.listdir(path_data)\n",
        "\n",
        "os.chdir(path_train)\n",
        "for folder in folders:\n",
        "    os.mkdir(folder)\n",
        "\n",
        "os.chdir(path_test)\n",
        "for folder in folders:\n",
        "    os.mkdir(folder)\n",
        "\n",
        "os.chdir('/content')"
      ],
      "metadata": {
        "id": "wKPSoKI4nsQP"
      },
      "execution_count": 4,
      "outputs": []
    },
    {
      "cell_type": "markdown",
      "source": [
        "### Train Test Split"
      ],
      "metadata": {
        "id": "qiDwdXtxogru"
      }
    },
    {
      "cell_type": "code",
      "source": [
        "import cv2\n",
        "\n",
        "for folder in folders:\n",
        "    images = os.listdir(f'{path_data}/{folder}')\n",
        "    print(f'load {folder}')\n",
        "    i = 1\n",
        "    for image in images:\n",
        "        file_name = f'{i}.jpg'\n",
        "        img = cv2.imread(f'{path_data}/{folder}/{image}')\n",
        "        if i < int(0.9*len(images)):\n",
        "            os.chdir(f'{path_train}/{folder}')\n",
        "            cv2.imwrite(file_name, img)\n",
        "            i = i+1\n",
        "        else:\n",
        "            # luu vao test\n",
        "            os.chdir(f'{path_test}/{folder}')\n",
        "            cv2.imwrite(file_name, img)\n",
        "            i = i+1\n",
        "os.chdir('/content')"
      ],
      "metadata": {
        "id": "WwDDPFSmodQf",
        "colab": {
          "base_uri": "https://localhost:8080/"
        },
        "outputId": "e60947b2-8190-41ef-bf3c-7cd1c8eee2a1"
      },
      "execution_count": 5,
      "outputs": [
        {
          "output_type": "stream",
          "name": "stdout",
          "text": [
            "load Sandal\n",
            "load Shoe\n",
            "load Boot\n"
          ]
        }
      ]
    },
    {
      "cell_type": "markdown",
      "source": [
        "### DataLoader"
      ],
      "metadata": {
        "id": "PZiqWLn-qKuk"
      }
    },
    {
      "cell_type": "code",
      "source": [
        "import torch\n",
        "from torchvision import datasets, transforms\n",
        "\n",
        "\n",
        "# augment image\n",
        "transform = transforms.Compose([\n",
        "    transforms.Resize(size=(64, 64)),\n",
        "    transforms.RandomHorizontalFlip(p=0.5),\n",
        "    transforms.ToTensor()\n",
        "])\n",
        "\n",
        "train_dataset = datasets.ImageFolder(root=path_train, transform=transform, target_transform=None)\n",
        "test_dataset = datasets.ImageFolder(root=path_test, transform=transform)"
      ],
      "metadata": {
        "id": "6YvOMIGh_Y1c"
      },
      "execution_count": 42,
      "outputs": []
    },
    {
      "cell_type": "code",
      "source": [
        "class_name = train_dataset.classes\n",
        "class_name"
      ],
      "metadata": {
        "id": "eTgqT5Pv_aJE",
        "colab": {
          "base_uri": "https://localhost:8080/"
        },
        "outputId": "40547e16-93ed-4e93-cc74-917bdc3ad012"
      },
      "execution_count": 7,
      "outputs": [
        {
          "output_type": "execute_result",
          "data": {
            "text/plain": [
              "['Boot', 'Sandal', 'Shoe']"
            ]
          },
          "metadata": {},
          "execution_count": 7
        }
      ]
    },
    {
      "cell_type": "code",
      "source": [
        "from torch.utils.data import DataLoader\n",
        "\n",
        "train_dataloader = DataLoader(dataset=train_dataset, batch_size=32,shuffle=True)\n",
        "test_dataloader = DataLoader(dataset=train_dataset, batch_size=32, shuffle=False)"
      ],
      "metadata": {
        "id": "zCLER_CT_bvs"
      },
      "execution_count": 8,
      "outputs": []
    },
    {
      "cell_type": "markdown",
      "source": [
        "### Building Model"
      ],
      "metadata": {
        "id": "e-ameOOH_fRb"
      }
    },
    {
      "cell_type": "code",
      "source": [
        "from torch import nn\n",
        "\n",
        "# building model\n",
        "class Model(nn.Module):\n",
        "    def __init__(self, input_shape: int, out_shape: int):\n",
        "        super().__init__()\n",
        "        self.conv_block_1 = nn.Sequential(\n",
        "            nn.Conv2d(input_shape, 16, 3),\n",
        "            nn.ReLU(),\n",
        "            nn.Conv2d(16, 32, 3),\n",
        "            nn.ReLU(),\n",
        "            nn.MaxPool2d(2)\n",
        "        )\n",
        "        self.conv_block_2 = nn.Sequential(\n",
        "            nn.Conv2d(32, 64, 3),\n",
        "            nn.ReLU(),\n",
        "            nn.Conv2d(64, 128, 3),\n",
        "            nn.ReLU(),\n",
        "            nn.MaxPool2d(2)\n",
        "        )\n",
        "        self.classifier = nn.Sequential(\n",
        "            nn.Flatten(),\n",
        "            nn.Linear(128*13*13, 512),\n",
        "            nn.Linear(512, 64),\n",
        "            nn.Linear(64, out_shape)\n",
        "        )\n",
        "    def forward(self, x: torch.Tensor):\n",
        "        x = self.conv_block_1(x)\n",
        "        x = self.conv_block_2(x)\n",
        "        x = self.classifier(x)\n",
        "        return x"
      ],
      "metadata": {
        "id": "ROPylnTU_ekz"
      },
      "execution_count": 9,
      "outputs": []
    },
    {
      "cell_type": "code",
      "source": [
        "device = 'cuda:0' if torch.cuda.is_available() else 'cpu'\n",
        "device"
      ],
      "metadata": {
        "id": "Zdv7lGnL_i2s",
        "colab": {
          "base_uri": "https://localhost:8080/",
          "height": 36
        },
        "outputId": "d8b7b2c0-ba89-4b2b-bbdd-50a01b6f1067"
      },
      "execution_count": 10,
      "outputs": [
        {
          "output_type": "execute_result",
          "data": {
            "text/plain": [
              "'cuda:0'"
            ],
            "application/vnd.google.colaboratory.intrinsic+json": {
              "type": "string"
            }
          },
          "metadata": {},
          "execution_count": 10
        }
      ]
    },
    {
      "cell_type": "code",
      "source": [
        "model = Model(3, len(class_name)).to(device)"
      ],
      "metadata": {
        "id": "DXHXC-u0_kUs"
      },
      "execution_count": 11,
      "outputs": []
    },
    {
      "cell_type": "code",
      "source": [
        "from prompt_toolkit.shortcuts.progress_bar.base import E\n",
        "# show cnn use torchinfo\n",
        "try:\n",
        "    import torchinfo\n",
        "except:\n",
        "    !pip install torchinfo\n",
        "    import torchinfo\n",
        "\n",
        "from torchinfo import summary\n",
        "summary(model, input_size=[32, 3, 64, 64])"
      ],
      "metadata": {
        "id": "hVl8HC4p_mC_",
        "colab": {
          "base_uri": "https://localhost:8080/"
        },
        "outputId": "7fa8f704-eb8f-4053-9855-319ef00a05de"
      },
      "execution_count": 12,
      "outputs": [
        {
          "output_type": "stream",
          "name": "stdout",
          "text": [
            "Looking in indexes: https://pypi.org/simple, https://us-python.pkg.dev/colab-wheels/public/simple/\n",
            "Collecting torchinfo\n",
            "  Downloading torchinfo-1.7.2-py3-none-any.whl (22 kB)\n",
            "Installing collected packages: torchinfo\n",
            "Successfully installed torchinfo-1.7.2\n"
          ]
        },
        {
          "output_type": "stream",
          "name": "stderr",
          "text": [
            "/usr/local/lib/python3.10/dist-packages/torchinfo/torchinfo.py:477: UserWarning: TypedStorage is deprecated. It will be removed in the future and UntypedStorage will be the only storage class. This should only matter to you if you are using storages directly.  To access UntypedStorage directly, use tensor.untyped_storage() instead of tensor.storage()\n",
            "  action_fn=lambda data: sys.getsizeof(data.storage()),\n",
            "/usr/local/lib/python3.10/dist-packages/torch/storage.py:665: UserWarning: TypedStorage is deprecated. It will be removed in the future and UntypedStorage will be the only storage class. This should only matter to you if you are using storages directly.  To access UntypedStorage directly, use tensor.untyped_storage() instead of tensor.storage()\n",
            "  return super().__sizeof__() + self.nbytes()\n"
          ]
        },
        {
          "output_type": "execute_result",
          "data": {
            "text/plain": [
              "==========================================================================================\n",
              "Layer (type:depth-idx)                   Output Shape              Param #\n",
              "==========================================================================================\n",
              "Model                                    [32, 3]                   --\n",
              "├─Sequential: 1-1                        [32, 32, 30, 30]          --\n",
              "│    └─Conv2d: 2-1                       [32, 16, 62, 62]          448\n",
              "│    └─ReLU: 2-2                         [32, 16, 62, 62]          --\n",
              "│    └─Conv2d: 2-3                       [32, 32, 60, 60]          4,640\n",
              "│    └─ReLU: 2-4                         [32, 32, 60, 60]          --\n",
              "│    └─MaxPool2d: 2-5                    [32, 32, 30, 30]          --\n",
              "├─Sequential: 1-2                        [32, 128, 13, 13]         --\n",
              "│    └─Conv2d: 2-6                       [32, 64, 28, 28]          18,496\n",
              "│    └─ReLU: 2-7                         [32, 64, 28, 28]          --\n",
              "│    └─Conv2d: 2-8                       [32, 128, 26, 26]         73,856\n",
              "│    └─ReLU: 2-9                         [32, 128, 26, 26]         --\n",
              "│    └─MaxPool2d: 2-10                   [32, 128, 13, 13]         --\n",
              "├─Sequential: 1-3                        [32, 3]                   --\n",
              "│    └─Flatten: 2-11                     [32, 21632]               --\n",
              "│    └─Linear: 2-12                      [32, 512]                 11,076,096\n",
              "│    └─Linear: 2-13                      [32, 64]                  32,832\n",
              "│    └─Linear: 2-14                      [32, 3]                   195\n",
              "==========================================================================================\n",
              "Total params: 11,206,563\n",
              "Trainable params: 11,206,563\n",
              "Non-trainable params: 0\n",
              "Total mult-adds (G): 3.01\n",
              "==========================================================================================\n",
              "Input size (MB): 1.57\n",
              "Forward/backward pass size (MB): 80.38\n",
              "Params size (MB): 44.83\n",
              "Estimated Total Size (MB): 126.78\n",
              "=========================================================================================="
            ]
          },
          "metadata": {},
          "execution_count": 12
        }
      ]
    },
    {
      "cell_type": "markdown",
      "source": [
        "### Train model"
      ],
      "metadata": {
        "id": "JoljfB3__pYT"
      }
    },
    {
      "cell_type": "code",
      "source": [
        "# training\n",
        "def train_step(model: torch.nn.Module,\n",
        "               dataset: torch.utils.data.DataLoader,\n",
        "               loss_fn: torch.nn.Module,\n",
        "               optimizer: torch.optim.Optimizer):\n",
        "      # setup train loss, acc\n",
        "      train_loss, train_acc = 0, 0\n",
        "\n",
        "      # put model into mode train\n",
        "      model.train()\n",
        "\n",
        "      # loop\n",
        "      for batch, (X, y) in enumerate(dataset):\n",
        "          #send X, y to device\n",
        "          X, y = X.to(device), y.to(device)\n",
        "\n",
        "          # 1. Forward\n",
        "          y_pred = model(X)\n",
        "\n",
        "          # 2. calculate loss\n",
        "          loss = loss_fn(y_pred, y)\n",
        "          train_loss += loss.item()\n",
        "\n",
        "          # 3. optimizer zero grad\n",
        "          optimizer.zero_grad()\n",
        "\n",
        "          # 4. backward\n",
        "          loss.backward()\n",
        "\n",
        "          # 5. update the optim\n",
        "          optimizer.step()\n",
        "\n",
        "          y_pred_class = torch.argmax(torch.softmax(y_pred, dim=1), dim=1)\n",
        "          train_acc += ((y_pred_class == y).sum().item()) / len(y_pred)\n",
        "      \n",
        "      # adjust metric\n",
        "      train_loss = train_loss / len(dataset)\n",
        "      train_acc = train_acc / len(dataset)\n",
        "      return train_loss, train_acc"
      ],
      "metadata": {
        "id": "qWfyfrYY_nX7"
      },
      "execution_count": 13,
      "outputs": []
    },
    {
      "cell_type": "code",
      "source": [
        "# testing\n",
        "def test_step(model: torch.nn.Module,\n",
        "              dataset: torch.utils.data.DataLoader,\n",
        "              loss_fn: torch.nn.Module\n",
        "              ):\n",
        "  \n",
        "    # setup test loss, acc\n",
        "    test_loss, test_acc = 0, 0\n",
        "\n",
        "    # put model into eval\n",
        "    model.eval()\n",
        "\n",
        "    # loop\n",
        "    with torch.inference_mode():\n",
        "        for batch, (X, y) in enumerate(dataset):\n",
        "            # send X, y to device\n",
        "            X, y = X.to(device), y.to(device)\n",
        "\n",
        "            # 1. forward\n",
        "            test_pred = model(X)\n",
        "\n",
        "            # 2. calculate loss\n",
        "            loss = loss_fn(test_pred, y)\n",
        "            test_loss += loss.item()\n",
        "\n",
        "            test_pred_class = torch.argmax(torch.softmax(test_pred, dim = 1), dim=1)\n",
        "            test_acc += ((test_pred_class == y).sum().item()) / len(test_pred)\n",
        "\n",
        "        #adiust metric\n",
        "        test_loss = test_loss / len(dataset)\n",
        "        test_acc = test_acc / len(dataset)\n",
        "        return test_loss, test_acc"
      ],
      "metadata": {
        "id": "FIUvTydM_toU"
      },
      "execution_count": 14,
      "outputs": []
    },
    {
      "cell_type": "code",
      "source": [
        "# ket hop train_step voi test_step\n",
        "from tqdm.auto import tqdm\n",
        "\n",
        "def train(model: torch.nn.Module,\n",
        "          train_dataloader: torch.utils.data.DataLoader,\n",
        "          test_dataloader: torch.utils.data.DataLoader,\n",
        "          loss_fn: torch.nn.Module,\n",
        "          optimizer: torch.optim.Optimizer,\n",
        "          epochs: int):\n",
        "\n",
        "    # setup results\n",
        "    results = {\"train_loss\": [],\n",
        "               \"train_acc\": [],\n",
        "               \"test_loss\": [],\n",
        "               \"test_acc\": []}\n",
        "\n",
        "    torch.manual_seed(42)\n",
        "\n",
        "    # loop\n",
        "    for epoch in tqdm(range(epochs)):\n",
        "        train_loss, train_acc = train_step(model=model, dataset=train_dataloader, loss_fn=loss_fn, optimizer=optimizer)\n",
        "        test_loss, test_acc = test_step(model=model, dataset=test_dataloader, loss_fn=loss_fn)\n",
        "\n",
        "        print(f'Epoch: {epoch+1}')\n",
        "        print(f'Train_loss: {train_loss:.4f}')\n",
        "        print(f'Train_acc: {train_acc:.2f}')\n",
        "        print(f'Test_loss: {test_loss:.4f}')\n",
        "        print(f'Test_acc: {test_acc:.2f}')\n",
        "\n",
        "        results[\"train_loss\"].append(train_loss)\n",
        "        results[\"train_acc\"].append(train_acc)\n",
        "        results[\"test_loss\"].append(test_loss)\n",
        "        results[\"test_acc\"].append(test_acc)\n",
        "\n",
        "    return results"
      ],
      "metadata": {
        "id": "NJ8Y-ZTu_vns"
      },
      "execution_count": 15,
      "outputs": []
    },
    {
      "cell_type": "code",
      "source": [
        "# training\n",
        "epochs = 5\n",
        "\n",
        "loss_fn = nn.CrossEntropyLoss()\n",
        "optimizer = torch.optim.Adam(params=model.parameters(), lr=0.001)\n",
        "\n",
        "model_results = train(model=model, train_dataloader=train_dataloader, test_dataloader=test_dataloader,\n",
        "                      loss_fn=loss_fn, optimizer=optimizer, epochs=epochs)"
      ],
      "metadata": {
        "id": "hxfcJ1H3_xpL",
        "colab": {
          "base_uri": "https://localhost:8080/",
          "height": 483,
          "referenced_widgets": [
            "e0a01c2acd014720bba1cf1579c688cc",
            "ec5db50518f94893b13b3b1504f86567",
            "623e55e0de6d45c5923516f86f6c8cda",
            "5b48b3d768e542938f6e78456f05acd5",
            "4616a2ffbad644a78e17d4e0f61e4e47",
            "4b2cf0eb9ab742f7a93177e8a7ea2344",
            "437e6061a19b41929ef4ee86e86b4a42",
            "b5505f44562d4e0090e20de2b568224d",
            "2f4f908137534fc98bcd5b983b9b7ef7",
            "785e15c1242e47a2adff9a18ebd93f82",
            "73ca703e6a874172a7e3ff35122f51dd"
          ]
        },
        "outputId": "ad7e6d27-51f9-42ae-f7a0-12643d1bfc0e"
      },
      "execution_count": 16,
      "outputs": [
        {
          "output_type": "display_data",
          "data": {
            "text/plain": [
              "  0%|          | 0/5 [00:00<?, ?it/s]"
            ],
            "application/vnd.jupyter.widget-view+json": {
              "version_major": 2,
              "version_minor": 0,
              "model_id": "e0a01c2acd014720bba1cf1579c688cc"
            }
          },
          "metadata": {}
        },
        {
          "output_type": "stream",
          "name": "stdout",
          "text": [
            "Epoch: 1\n",
            "Train_loss: 0.3953\n",
            "Train_acc: 0.84\n",
            "Test_loss: 0.2137\n",
            "Test_acc: 0.93\n",
            "Epoch: 2\n",
            "Train_loss: 0.2006\n",
            "Train_acc: 0.93\n",
            "Test_loss: 0.1893\n",
            "Test_acc: 0.93\n",
            "Epoch: 3\n",
            "Train_loss: 0.1427\n",
            "Train_acc: 0.95\n",
            "Test_loss: 0.1122\n",
            "Test_acc: 0.96\n",
            "Epoch: 4\n",
            "Train_loss: 0.1176\n",
            "Train_acc: 0.96\n",
            "Test_loss: 0.0912\n",
            "Test_acc: 0.97\n",
            "Epoch: 5\n",
            "Train_loss: 0.0981\n",
            "Train_acc: 0.97\n",
            "Test_loss: 0.0691\n",
            "Test_acc: 0.98\n"
          ]
        }
      ]
    },
    {
      "cell_type": "code",
      "source": [
        "# kiem tra\n",
        "import torchvision\n",
        "import matplotlib.pyplot as plt\n",
        "from typing import List\n",
        "def pred_and_plot_img(model: torch.nn.Module,\n",
        "                      image_path: str,\n",
        "                      class_name: List[str] = None,\n",
        "                      transform=None,\n",
        "                      device: torch.device = device):\n",
        "    # 1. load in image and convert\n",
        "    target_img = torchvision.io.read_image(str(image_path)).type(torch.float32)\n",
        "\n",
        "    # 2. Devide the image pixel[0, 1]\n",
        "    target_img = target_img / 255.\n",
        "\n",
        "    # 3. transform\n",
        "    if transform:\n",
        "        target_image = transform(target_img)\n",
        "    \n",
        "    # 4. \n",
        "    model.to(device)\n",
        "    \n",
        "    # 5. turn on model\n",
        "    model.eval()\n",
        "    with torch.inference_mode():\n",
        "        # them mot kic thuoc bo sung cho anh\n",
        "        target_img = target_image.unsqueeze(dim=0)\n",
        "        \n",
        "\n",
        "        # make pred\n",
        "        img_pred = model(target_img.to(device))\n",
        "    \n",
        "    # 6. convert logist\n",
        "    img_pred_prob = torch.softmax(img_pred, dim=1)\n",
        "\n",
        "    img_pred_class = torch.argmax(img_pred_prob, dim=1)\n",
        "\n",
        "    # sap xep lai cac thu tu cua anh va show anh\n",
        "    plt.imshow(target_img.squeeze().permute(1,2,0))\n",
        "    if class_name:\n",
        "        title = f'Pred: {class_name[img_pred_class.cpu()]} | Prob: {img_pred_prob.max().cpu():.2f}'\n",
        "    else:\n",
        "        title = f\"Pred: {img_pred_class} | Prob: {img_pred_prob.max().cpu():.3f}\"\n",
        "    plt.title(title)\n",
        "    plt.axis(False);"
      ],
      "metadata": {
        "id": "w5m_s2mI_y8L"
      },
      "execution_count": 18,
      "outputs": []
    },
    {
      "cell_type": "code",
      "source": [
        "# pred\n",
        "path_img = '/content/dataset/test/Sandal/4500.jpg'\n",
        "custom_image_transform = transforms.Compose([\n",
        "    transforms.Resize((64, 64)),\n",
        "])\n",
        "pred_and_plot_img(model=model, image_path=path_img, class_name=class_name, transform=custom_image_transform, device=device)"
      ],
      "metadata": {
        "id": "AERV5TbM_5cS",
        "colab": {
          "base_uri": "https://localhost:8080/",
          "height": 483
        },
        "outputId": "786da9d3-5979-4625-dcf6-70a948d57afd"
      },
      "execution_count": 19,
      "outputs": [
        {
          "output_type": "stream",
          "name": "stderr",
          "text": [
            "/usr/local/lib/python3.10/dist-packages/torchvision/transforms/functional.py:1603: UserWarning: The default value of the antialias parameter of all the resizing transforms (Resize(), RandomResizedCrop(), etc.) will change from None to True in v0.17, in order to be consistent across the PIL and Tensor backends. To suppress this warning, directly pass antialias=True (recommended, future default), antialias=None (current default, which means False for Tensors and True for PIL), or antialias=False (only works on Tensors - PIL will still use antialiasing). This also applies if you are using the inference transforms from the models weights: update the call to weights.transforms(antialias=True).\n",
            "  warnings.warn(\n"
          ]
        },
        {
          "output_type": "display_data",
          "data": {
            "text/plain": [
              "<Figure size 640x480 with 1 Axes>"
            ],
            "image/png": "[encoded data removed]"
          },
          "metadata": {}
        }
      ]
    },
    {
      "cell_type": "markdown",
      "source": [
        "### Plot loss and acc"
      ],
      "metadata": {
        "id": "Qwt40kMDAFfT"
      }
    },
    {
      "cell_type": "code",
      "source": [
        "# plot\n",
        "from typing import Tuple, Dict, List\n",
        "def plot_loss_acc(results: Dict[str, List[float]]):\n",
        "\n",
        "    # get the loss\n",
        "    train_loss = results['train_loss']\n",
        "    test_loss = results['test_loss']\n",
        "\n",
        "    # get the acc\n",
        "    train_acc = results['train_acc']\n",
        "    test_acc = results['test_acc']\n",
        "\n",
        "    epochs = range(len(results['train_loss']))\n",
        "\n",
        "    # setup figure\n",
        "    plt.figure(figsize=(15, 7))\n",
        "\n",
        "    # plot loss\n",
        "    plt.subplot(1, 2, 1)\n",
        "    plt.plot(epochs, train_loss, label='train_loss')\n",
        "    plt.plot(epochs, test_loss, label='test_loss')\n",
        "    plt.title('Loss')\n",
        "    plt.xlabel('Epochs')\n",
        "    plt.legend()\n",
        "\n",
        "    # plot acc\n",
        "    plt.subplot(1, 2, 2)\n",
        "    plt.plot(epochs, train_acc, label='train_acc')\n",
        "    plt.plot(epochs, test_acc, label='test_acc')\n",
        "    plt.title('Acc')\n",
        "    plt.xlabel('Epochs')\n",
        "    plt.legend();"
      ],
      "metadata": {
        "id": "MU5IjtZOAAtj"
      },
      "execution_count": 20,
      "outputs": []
    },
    {
      "cell_type": "code",
      "source": [
        "plot_loss_acc(model_results)"
      ],
      "metadata": {
        "id": "1qNJ5KhnAJ83",
        "colab": {
          "base_uri": "https://localhost:8080/",
          "height": 406
        },
        "outputId": "bdb79db1-c72a-43b9-f973-313f967a3849"
      },
      "execution_count": 21,
      "outputs": [
        {
          "output_type": "display_data",
          "data": {
            "text/plain": [
              "<Figure size 1500x700 with 2 Axes>"
            ],
            "image/png": "[encoded data removed]"
          },
          "metadata": {}
        }
      ]
    },
    {
      "cell_type": "markdown",
      "source": [
        "### Thời gian dự đoán model pytorch"
      ],
      "metadata": {
        "id": "Nrzcrt7mBCDT"
      }
    },
    {
      "cell_type": "code",
      "source": [
        "import time\n",
        "model = model.to('cuda:0')\n",
        "target_img = torchvision.io.read_image(str('/content/dataset/test/Sandal/4500.jpg')).type(torch.float32)\n",
        "transform_pred = transforms.Compose([\n",
        "    transforms.Resize((64, 64))\n",
        "])\n",
        "\n",
        "target_img = target_img/255\n",
        "target_img = transform_pred(target_img)\n",
        "model.eval()\n",
        "start = time.time()\n",
        "with torch.inference_mode():\n",
        "    # them mot kic thuoc bo sung cho anh\n",
        "    target_img = target_img.unsqueeze(dim=0)\n",
        "    \n",
        "\n",
        "    # make pred\n",
        "    img_pred = model(target_img.to(device))\n",
        "    # img_pred = model(target_img)\n",
        "\n",
        "# 6. convert logist\n",
        "img_pred_prob = torch.softmax(img_pred, dim=1)\n",
        "\n",
        "import numpy as np\n",
        "idx = torch.argmax(img_pred_prob, dim=1)\n",
        "end = time.time()\n",
        "time1 = np.round((end-start) * 1000, 2)\n",
        "\n",
        "print('Final top pred: ' + class_name[idx])\n",
        "print('Time: ' + str(time1) + ' ms')\n",
        "plt.imshow(target_img.squeeze().permute(1,2,0))\n"
      ],
      "metadata": {
        "id": "0cU9kNjzBBsq",
        "colab": {
          "base_uri": "https://localhost:8080/",
          "height": 484
        },
        "outputId": "a6a1631d-624b-4b8d-bea3-4e5c5536597a"
      },
      "execution_count": 59,
      "outputs": [
        {
          "output_type": "stream",
          "name": "stdout",
          "text": [
            "Final top pred: Sandal\n",
            "Time: 2.68 ms\n"
          ]
        },
        {
          "output_type": "execute_result",
          "data": {
            "text/plain": [
              "<matplotlib.image.AxesImage at 0x7ff8c625e530>"
            ]
          },
          "metadata": {},
          "execution_count": 59
        },
        {
          "output_type": "display_data",
          "data": {
            "text/plain": [
              "<Figure size 640x480 with 1 Axes>"
            ],
            "image/png": "[encoded data removed]"
          },
          "metadata": {}
        }
      ]
    },
    {
      "cell_type": "code",
      "source": [],
      "metadata": {
        "id": "w7Fn76t8IQZI"
      },
      "execution_count": null,
      "outputs": []
    },
    {
      "cell_type": "markdown",
      "source": [
        "### convert to ONNX"
      ],
      "metadata": {
        "id": "hG1q_13zAv4i"
      }
    },
    {
      "cell_type": "code",
      "source": [
        "!pip install onnx\n",
        "!pip install onnxruntime"
      ],
      "metadata": {
        "id": "1su6qqzjAuwK"
      },
      "execution_count": null,
      "outputs": []
    },
    {
      "cell_type": "code",
      "source": [
        "import torch.onnx\n",
        "import torch\n",
        "\n",
        "dummy_input = torch.randn(1, 3, 64, 64)\n",
        "model = model.to('cpu')\n",
        "torch.onnx.export(model, dummy_input, 'model.onnx')"
      ],
      "metadata": {
        "id": "8vaTcaXCA4yD",
        "colab": {
          "base_uri": "https://localhost:8080/"
        },
        "outputId": "7a4a1f14-e964-4769-8f87-b41f5a3b2612"
      },
      "execution_count": 27,
      "outputs": [
        {
          "output_type": "stream",
          "name": "stdout",
          "text": [
            "============= Diagnostic Run torch.onnx.export version 2.0.0+cu118 =============\n",
            "verbose: False, log level: Level.ERROR\n",
            "======================= 0 NONE 0 NOTE 0 WARNING 0 ERROR ========================\n",
            "\n"
          ]
        }
      ]
    },
    {
      "cell_type": "code",
      "source": [
        "!pip install onnxruntime-gpu"
      ],
      "metadata": {
        "colab": {
          "base_uri": "https://localhost:8080/"
        },
        "id": "Net1g4JoLZ7x",
        "outputId": "8289f0ba-1fe0-4c96-b892-c6f9cac1b94c"
      },
      "execution_count": 28,
      "outputs": [
        {
          "output_type": "stream",
          "name": "stdout",
          "text": [
            "Looking in indexes: https://pypi.org/simple, https://us-python.pkg.dev/colab-wheels/public/simple/\n",
            "Collecting onnxruntime-gpu\n",
            "  Downloading onnxruntime_gpu-1.14.1-cp310-cp310-manylinux_2_17_x86_64.manylinux2014_x86_64.whl (136.2 MB)\n",
            "\u001b[2K     \u001b[90m━━━━━━━━━━━━━━━━━━━━━━━━━━━━━━━━━━━━━━━\u001b[0m \u001b[32m136.2/136.2 MB\u001b[0m \u001b[31m9.3 MB/s\u001b[0m eta \u001b[36m0:00:00\u001b[0m\n",
            "\u001b[?25hRequirement already satisfied: flatbuffers in /usr/local/lib/python3.10/dist-packages (from onnxruntime-gpu) (23.3.3)\n",
            "Requirement already satisfied: protobuf in /usr/local/lib/python3.10/dist-packages (from onnxruntime-gpu) (3.20.3)\n",
            "Requirement already satisfied: numpy>=1.21.6 in /usr/local/lib/python3.10/dist-packages (from onnxruntime-gpu) (1.22.4)\n",
            "Requirement already satisfied: sympy in /usr/local/lib/python3.10/dist-packages (from onnxruntime-gpu) (1.11.1)\n",
            "Requirement already satisfied: coloredlogs in /usr/local/lib/python3.10/dist-packages (from onnxruntime-gpu) (15.0.1)\n",
            "Requirement already satisfied: packaging in /usr/local/lib/python3.10/dist-packages (from onnxruntime-gpu) (23.1)\n",
            "Requirement already satisfied: humanfriendly>=9.1 in /usr/local/lib/python3.10/dist-packages (from coloredlogs->onnxruntime-gpu) (10.0)\n",
            "Requirement already satisfied: mpmath>=0.19 in /usr/local/lib/python3.10/dist-packages (from sympy->onnxruntime-gpu) (1.3.0)\n",
            "Installing collected packages: onnxruntime-gpu\n",
            "Successfully installed onnxruntime-gpu-1.14.1\n"
          ]
        }
      ]
    },
    {
      "cell_type": "code",
      "source": [
        "import torch\n",
        "import numpy as np\n",
        "import onnxruntime\n",
        "\n",
        "# run the model on the backend\n",
        "model_onnx = onnxruntime.InferenceSession('/content/model.onnx', providers=['CUDAExecutionProvider'])\n",
        "\n",
        "# lấy tên của đầu vào đầu tiên của mô hình\n",
        "input_name = model_onnx.get_inputs()[0].name\n",
        "image = np.random.randn(1, 3, 64, 64).astype(np.float32)\n",
        "\n",
        "ort_inputs = {input_name: image}\n",
        "ort_outs = model_onnx.run(None, ort_inputs)\n",
        "print(ort_outs)"
      ],
      "metadata": {
        "id": "rKDOsM_JDpOJ",
        "colab": {
          "base_uri": "https://localhost:8080/"
        },
        "outputId": "8b4f5960-9d20-4bf7-a346-a29b4b8cad02"
      },
      "execution_count": 34,
      "outputs": [
        {
          "output_type": "stream",
          "name": "stdout",
          "text": [
            "[array([[-37.950314,  20.895424,  36.397366]], dtype=float32)]\n"
          ]
        }
      ]
    },
    {
      "cell_type": "code",
      "source": [
        "def preprocess(input_data):\n",
        "    # convert the input data into the float32 input\n",
        "    img_data = input_data.astype('float32')\n",
        "\n",
        "    #normalize\n",
        "    mean_vec = np.array([0.485, 0.456, 0.406])\n",
        "    stddev_vec = np.array([0.229, 0.224, 0.225])\n",
        "    norm_img_data = np.zeros(img_data.shape).astype('float32')\n",
        "    for i in range(img_data.shape[0]):\n",
        "        norm_img_data[i,:,:] = (img_data[i,:,:]/255)\n",
        "        \n",
        "    #add batch channel\n",
        "    norm_img_data = norm_img_data.reshape(1, 3, 64, 64).astype('float32')\n",
        "    return norm_img_data\n",
        "\n",
        "def softmax(x):\n",
        "    x = x.reshape(-1)\n",
        "    e_x = np.exp(x - np.max(x))\n",
        "    return e_x / e_x.sum(axis=0)\n",
        "\n",
        "def postprocess(result):\n",
        "    return softmax(np.array(result)).tolist()"
      ],
      "metadata": {
        "id": "cuItUnMmDzRg"
      },
      "execution_count": 53,
      "outputs": []
    },
    {
      "cell_type": "code",
      "source": [
        "from PIL import Image\n",
        "import matplotlib.pyplot as plt\n",
        "\n",
        "image = Image.open('/content/dataset/test/Sandal/4500.jpg')\n",
        "image = image.resize((64, 64))\n",
        "# image = Image.open('images/plane.jpg')\n",
        "\n",
        "print(\"Image size: \", image.size)\n",
        "image_data = np.array(image).transpose(2, 0, 1)\n",
        "input_data = preprocess(image_data)\n",
        "import time\n",
        "start = time.time()\n",
        "raw_result = model_onnx.run([], {input_name: input_data})\n",
        "# print(raw_result)\n",
        "end = time.time()\n",
        "res = postprocess(raw_result)\n",
        "# res = torch.softmax(raw_result, dim=1).tolist()\n",
        "time2 = np.round((end - start) * 1000, 2)\n",
        "idx = np.argmax(res)\n",
        "print('========================================')\n",
        "print('Final top prediction is: ' + class_name[idx])\n",
        "print('========================================')\n",
        "\n",
        "print('========================================')\n",
        "print('Inference time: ' + str(time2) + \" ms\")\n",
        "print('========================================')\n",
        "\n",
        "plt.axis('off')\n",
        "display_image = plt.imshow(image)"
      ],
      "metadata": {
        "id": "hOpjWRGOD7lg",
        "colab": {
          "base_uri": "https://localhost:8080/",
          "height": 527
        },
        "outputId": "b8e5390f-0597-45ed-94ce-e0459d80a879"
      },
      "execution_count": 60,
      "outputs": [
        {
          "output_type": "stream",
          "name": "stdout",
          "text": [
            "Image size:  (64, 64)\n",
            "========================================\n",
            "Final top prediction is: Sandal\n",
            "========================================\n",
            "========================================\n",
            "Inference time: 1.43 ms\n",
            "========================================\n"
          ]
        },
        {
          "output_type": "display_data",
          "data": {
            "text/plain": [
              "<Figure size 640x480 with 1 Axes>"
            ],
            "image/png": "[encoded data removed]"
          },
          "metadata": {}
        }
      ]
    },
    {
      "cell_type": "code",
      "source": [
        "path = '/content/dataset/test/Boot'\n",
        "time_pytorch = []\n",
        "time_onnx = []\n",
        "images = os.listdir(path)\n",
        "count = 0\n",
        "for image in images:\n",
        "    img_path = f'{path}/{image}'\n",
        "\n",
        "    # predict pytorch\n",
        "    model = model.to(device)\n",
        "    target_img = torchvision.io.read_image(str(img_path)).type(torch.float32)\n",
        "    transform_pred = transforms.Compose([\n",
        "        transforms.Resize((64, 64))\n",
        "    ])\n",
        "\n",
        "    target_img = target_img/255\n",
        "    target_img = transform_pred(target_img)\n",
        "    model.eval()\n",
        "    start = time.time()\n",
        "    with torch.inference_mode():\n",
        "        # them mot kic thuoc bo sung cho anh\n",
        "        target_img = target_img.unsqueeze(dim=0)\n",
        "        \n",
        "\n",
        "        # make pred\n",
        "        img_pred = model(target_img.to(device))\n",
        "        # img_pred = model(target_img)\n",
        "\n",
        "    # 6. convert logist\n",
        "    img_pred_prob = torch.softmax(img_pred, dim=1)\n",
        "\n",
        "    import numpy as np\n",
        "    idx = torch.argmax(img_pred_prob, dim=1)\n",
        "    end = time.time()\n",
        "    time1 = np.round((end-start) * 1000000, 2)\n",
        "    time_pytorch.append(time1)\n",
        "\n",
        "    # predict ONNX\n",
        "    image = Image.open(img_path)\n",
        "    image = image.resize((64, 64))\n",
        "    # image = Image.open('images/plane.jpg')\n",
        "\n",
        "    image_data = np.array(image).transpose(2, 0, 1)\n",
        "    input_data = preprocess(image_data)\n",
        "    import time\n",
        "    start = time.time()\n",
        "    raw_result = model_onnx.run([], {input_name: input_data})\n",
        "    # print(raw_result)\n",
        "    end = time.time()\n",
        "    time2 = np.round((end - start) * 1000000, 2)\n",
        "    time_onnx.append(time2)\n",
        "    count = count + 1\n",
        "    if count == 100:\n",
        "        break"
      ],
      "metadata": {
        "colab": {
          "base_uri": "https://localhost:8080/"
        },
        "id": "99wX9x2VRIsp",
        "outputId": "665a6819-4fe4-459b-a31b-8ba0285829e8"
      },
      "execution_count": 83,
      "outputs": [
        {
          "output_type": "stream",
          "name": "stderr",
          "text": [
            "/usr/local/lib/python3.10/dist-packages/torchvision/transforms/functional.py:1603: UserWarning: The default value of the antialias parameter of all the resizing transforms (Resize(), RandomResizedCrop(), etc.) will change from None to True in v0.17, in order to be consistent across the PIL and Tensor backends. To suppress this warning, directly pass antialias=True (recommended, future default), antialias=None (current default, which means False for Tensors and True for PIL), or antialias=False (only works on Tensors - PIL will still use antialiasing). This also applies if you are using the inference transforms from the models weights: update the call to weights.transforms(antialias=True).\n",
            "  warnings.warn(\n"
          ]
        }
      ]
    },
    {
      "cell_type": "code",
      "source": [
        "print(time_onnx)\n",
        "print(time_pytorch)"
      ],
      "metadata": {
        "colab": {
          "base_uri": "https://localhost:8080/"
        },
        "id": "EJxsHbvhT7Is",
        "outputId": "871bb521-4bba-4f96-b71f-b476ae07fb78"
      },
      "execution_count": 82,
      "outputs": [
        {
          "output_type": "stream",
          "name": "stdout",
          "text": [
            "[1117.47, 823.74, 795.6, 797.99, 814.91]\n",
            "[1719.0, 1161.34, 1201.87, 1085.52, 1186.61]\n"
          ]
        }
      ]
    },
    {
      "cell_type": "code",
      "source": [
        "array = []\n",
        "count = 0\n",
        "for i in range(len(time_onnx)):\n",
        "    if (time_onnx[i] - time_pytorch[i]) < 0:\n",
        "        count = count + 1\n",
        "    array.append(time_onnx[i] - time_pytorch[i])\n",
        "print(f'So lan onnx nhanh hon torch la: {count} / {len(time_onnx)}')"
      ],
      "metadata": {
        "colab": {
          "base_uri": "https://localhost:8080/"
        },
        "id": "vOQK7Qy_ThAf",
        "outputId": "7ea43669-eda3-45e7-a174-30202007d51c"
      },
      "execution_count": 88,
      "outputs": [
        {
          "output_type": "stream",
          "name": "stdout",
          "text": [
            "So lan onnx nhanh hon torch la: 98 / 100\n"
          ]
        }
      ]
    },
    {
      "cell_type": "code",
      "source": [
        "def plot_time(time_pytorch, time_onnx):\n",
        "    count = range(len(time_pytorch))\n",
        "\n",
        "    # setup figure\n",
        "    plt.figure(figsize=(15, 7))\n",
        "\n",
        "    # plot time\n",
        "    plt.plot(count, array, label='time_onnx - time_pytorch')\n",
        "    # plt.plot(count, time_pytorch, label='time_onnx')\n",
        "    plt.title('Time Inference')\n",
        "    plt.xlabel('Epochs')\n",
        "    plt.legend()\n"
      ],
      "metadata": {
        "id": "agkMtms7H6wM"
      },
      "execution_count": 85,
      "outputs": []
    },
    {
      "cell_type": "code",
      "source": [
        "plot_time(array, time_onnx)"
      ],
      "metadata": {
        "colab": {
          "base_uri": "https://localhost:8080/",
          "height": 401
        },
        "id": "-znmiwxhRy8K",
        "outputId": "bb0d3004-2e4a-46d8-b7cd-e48e4c2e9b6a"
      },
      "execution_count": 86,
      "outputs": [
        {
          "output_type": "display_data",
          "data": {
            "text/plain": [
              "<Figure size 1500x700 with 1 Axes>"
            ],
            "image/png": "[encoded data removed]"
          },
          "metadata": {}
        }
      ]
    },
    {
      "cell_type": "code",
      "source": [],
      "metadata": {
        "id": "XwrKd9ZkTU5x"
      },
      "execution_count": null,
      "outputs": []
    }
  ]
}
